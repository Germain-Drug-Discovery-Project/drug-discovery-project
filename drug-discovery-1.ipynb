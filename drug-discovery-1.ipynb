{
 "cells": [
  {
   "cell_type": "markdown",
   "id": "wAQccHGpLEJj",
   "metadata": {
    "id": "wAQccHGpLEJj"
   },
   "source": [
    "# Drug Discovery using ChEMBL\n",
    "\n",
    "ChEMBL is a curated chemical database of **bioactive molecules** with drug-like properties. "
   ]
  },
  {
   "cell_type": "markdown",
   "id": "_LvHrXyXy0aZ",
   "metadata": {
    "id": "_LvHrXyXy0aZ"
   },
   "source": [
    "#### Table of contents\n",
    "\n",
    "1.   [Preliminary research phase](#Research)\n",
    "2.   [Acquire & prepare molecular data](#Acquire)\n",
    "3.   [Explore molecular descriptors](#Explore)\n",
    "4.   [Modeling the chemical fingerprints](#Model)\n",
    "\n"
   ]
  },
  {
   "cell_type": "code",
   "execution_count": 51,
   "id": "e7507962-7054-4a3b-9c35-fa4c9eba65f2",
   "metadata": {
    "tags": []
   },
   "outputs": [
    {
     "name": "stdout",
     "output_type": "stream",
     "text": [
      "The autoreload extension is already loaded. To reload it, use:\n",
      "  %reload_ext autoreload\n"
     ]
    }
   ],
   "source": [
    "import pandas as pd\n",
    "import numpy as np\n",
    "from chembl_webresource_client.new_client import new_client\n",
    "from rdkit import Chem\n",
    "from source.prepare import preprocess_bioactivity_data\n",
    "\n",
    "%load_ext autoreload\n",
    "%autoreload 2"
   ]
  },
  {
   "cell_type": "markdown",
   "id": "3a95dec5-f8d7-4b38-a6a9-b8da1b312c1b",
   "metadata": {},
   "source": [
    "<a id='Research'></a>\n",
    "## 1. Preliminary research phase\n"
   ]
  },
  {
   "cell_type": "markdown",
   "id": "32a036b3-54c4-47a0-8a22-07e50e48d98f",
   "metadata": {},
   "source": [
    "In October, 2021, [*Nature* reported](https://www.nature.com/articles/d41586-021-02755-5#ref-CR2), `More than 130 years after the naming of the Plasmodium parasites behind malaria, the world now has its first approved vaccine against them ... Compared with other childhood vaccinations, RTS,S has only modest efficacy, preventing about 30% of severe malaria cases after a series of four injections in children under the age of five. Nevertheless, one modelling study suggests that it could prevent the deaths of 23,000 children a year ... [malaria] killed 411,000 people in 2018.`\n",
    "\n",
    "Accoring to the [CDC website](https://www.cdc.gov/malaria/about/biology/index.html#tabs-1-6), `Four species of Plasmodium have long been recognized to infect humans in nature. In addition there is one species that naturally infects macaques which has recently been recognized to be a cause of zoonotic malaria in humans ... P. knowlesi is found throughout Southeast Asia as a natural pathogen of long-tailed and pig-tailed macaques. It has a 24-hour replication cycle and so can rapidly progress from an uncomplicated to a severe infection; fatal cases have been reported.`\n",
    "\n",
    "![](https://www.cdc.gov/malaria/images/microscopy/about/falciparum.jpg)\n",
    "\n",
    "(P. falciparum, the deadliest species targeted by new vaccine)\n",
    "\n",
    "![](https://www.cdc.gov/malaria/images/microscopy/about/knowlesi.jpg)\n",
    "\n",
    "(P. knowlesi, newly found to cause zoonotic malaria in humans infected by primates)\n",
    "\n",
    "Is [Plasmodium knowlesi](https://www.ebi.ac.uk/chembl/target_report_card/CHEMBL613011/) in the ChEMBL database? If so, we can use it to retrieve the microorganism's assays, which are chemical tests made to estimate the **potency** of sample compounds on the organism. We can check using the ChEMBL group's official Python client library... "
   ]
  },
  {
   "cell_type": "code",
   "execution_count": 3,
   "id": "06d92c58-4a63-49f1-9bc7-4f27b9cb7879",
   "metadata": {
    "tags": []
   },
   "outputs": [
    {
     "data": {
      "text/plain": [
       "{'organism': 'Plasmodium knowlesi',\n",
       " 'pref_name': 'Plasmodium knowlesi',\n",
       " 'target_chembl_id': 'CHEMBL613011'}"
      ]
     },
     "execution_count": 3,
     "metadata": {},
     "output_type": "execute_result"
    }
   ],
   "source": [
    "drug_target = 'Plasmodium knowlesi'\n",
    "\n",
    "target_dicts = []\n",
    "res = new_client.target.search(drug_target)\n",
    "for r in res:\n",
    "    target_dicts.append({'organism': r['organism'],\n",
    "                         'pref_name': r['pref_name'],\n",
    "                         'target_chembl_id': r['target_chembl_id']})\n",
    "#top result\n",
    "target_dicts[0]"
   ]
  },
  {
   "cell_type": "markdown",
   "id": "bdwSYSyMjzt2",
   "metadata": {
    "id": "bdwSYSyMjzt2"
   },
   "source": [
    "<a id='Acquire'></a>\n",
    "## 2. Acquire & prepare molecular data"
   ]
  },
  {
   "cell_type": "markdown",
   "id": "d36653b4-8689-4803-9b12-40ab3f943b8d",
   "metadata": {},
   "source": [
    "This cell will create **two csv files** based on the TARGET_ID:\n",
    "\n",
    "* preprocessed data with SMILES notation and added columns for Lapinski descriptors (drug-like properties), $pIC_{50}$ values (potency, the dependnt variable), and a binary class variable ('ACTIVE', 'INACTIVE') indicating whether or not each molecule is reactive with the target\n",
    "\n",
    "* the chemical fingerprint, a 881-digit binary represntation of the molecular structure, for each molecule in the dataset that is used for training the machine learning algorithm to recognize promising new molecules\n",
    "\n",
    "Dependencies include the ChEMBL Webresource Client, RDKit, and PaDELPy"
   ]
  },
  {
   "cell_type": "code",
   "execution_count": 4,
   "id": "c9290af4-0560-4608-a2fd-627ee43af79f",
   "metadata": {},
   "outputs": [
    {
     "name": "stdout",
     "output_type": "stream",
     "text": [
      "\n",
      "Query results retrieved for CHEMBL613011...\n",
      "Saving 9 molecules.\n",
      "\n",
      "Mann-Whitney U tests for molecular descriptors (active vs. inactive)...\n",
      "\n",
      " MW\n",
      "   U statistic = 18, p = 0.026\n",
      "   Different distribution. Reject H0.\n",
      "\n",
      " LogP\n",
      "   U statistic = 6, p = 0.511\n",
      "   Same distribution. Fail to reject H0.\n",
      "\n",
      " NumHDonors\n",
      "   U statistic = 0, p = 0.020\n",
      "   Different distribution. Reject H0.\n",
      "\n",
      " NumHAcceptors\n",
      "   U statistic = 10, p = 0.637\n",
      "   Same distribution. Fail to reject H0.\n",
      "\n",
      "Computing fingerprints (takes several minutes if molecules > 1000)...\n",
      "Success!\n",
      "\n"
     ]
    }
   ],
   "source": [
    "target_id = target_dicts[0]['target_chembl_id']\n",
    "preprocess_bioactivity_data(target_id, tests=True, fingerprints=True)"
   ]
  },
  {
   "cell_type": "code",
   "execution_count": 5,
   "id": "c6ff0841-17fe-4435-ba2a-e58cbc7e1dd0",
   "metadata": {},
   "outputs": [
    {
     "data": {
      "text/html": [
       "<div>\n",
       "<style scoped>\n",
       "    .dataframe tbody tr th:only-of-type {\n",
       "        vertical-align: middle;\n",
       "    }\n",
       "\n",
       "    .dataframe tbody tr th {\n",
       "        vertical-align: top;\n",
       "    }\n",
       "\n",
       "    .dataframe thead th {\n",
       "        text-align: right;\n",
       "    }\n",
       "</style>\n",
       "<table border=\"1\" class=\"dataframe\">\n",
       "  <thead>\n",
       "    <tr style=\"text-align: right;\">\n",
       "      <th></th>\n",
       "      <th>molecule_chembl_id</th>\n",
       "      <th>canonical_smiles</th>\n",
       "      <th>standard_value</th>\n",
       "      <th>bioactivity_class</th>\n",
       "      <th>MW</th>\n",
       "      <th>LogP</th>\n",
       "      <th>NumHDonors</th>\n",
       "      <th>NumHAcceptors</th>\n",
       "      <th>pIC50</th>\n",
       "    </tr>\n",
       "  </thead>\n",
       "  <tbody>\n",
       "    <tr>\n",
       "      <th>0</th>\n",
       "      <td>CHEMBL1951761</td>\n",
       "      <td>CCCCCCCCCCCCC[C@H](O)C[C@H](O)[C@H](C)N</td>\n",
       "      <td>10500.0</td>\n",
       "      <td>INACTIVE</td>\n",
       "      <td>301.515</td>\n",
       "      <td>4.14660</td>\n",
       "      <td>3.0</td>\n",
       "      <td>3.0</td>\n",
       "      <td>4.978811</td>\n",
       "    </tr>\n",
       "    <tr>\n",
       "      <th>1</th>\n",
       "      <td>CHEMBL1951763</td>\n",
       "      <td>CCCCCCCCCCCCC[C@H](O)C[C@@H](O)[C@H](C)N</td>\n",
       "      <td>20300.0</td>\n",
       "      <td>INACTIVE</td>\n",
       "      <td>301.515</td>\n",
       "      <td>4.14660</td>\n",
       "      <td>3.0</td>\n",
       "      <td>3.0</td>\n",
       "      <td>4.692504</td>\n",
       "    </tr>\n",
       "    <tr>\n",
       "      <th>2</th>\n",
       "      <td>CHEMBL1951762</td>\n",
       "      <td>CCCCCCCCCCCCC[C@@H](O)C[C@H](O)[C@H](C)N</td>\n",
       "      <td>17600.0</td>\n",
       "      <td>INACTIVE</td>\n",
       "      <td>301.515</td>\n",
       "      <td>4.14660</td>\n",
       "      <td>3.0</td>\n",
       "      <td>3.0</td>\n",
       "      <td>4.754487</td>\n",
       "    </tr>\n",
       "    <tr>\n",
       "      <th>3</th>\n",
       "      <td>CHEMBL76</td>\n",
       "      <td>CCN(CC)CCCC(C)Nc1ccnc2cc(Cl)ccc12</td>\n",
       "      <td>10.0</td>\n",
       "      <td>ACTIVE</td>\n",
       "      <td>319.880</td>\n",
       "      <td>4.81060</td>\n",
       "      <td>1.0</td>\n",
       "      <td>3.0</td>\n",
       "      <td>8.000000</td>\n",
       "    </tr>\n",
       "    <tr>\n",
       "      <th>4</th>\n",
       "      <td>CHEMBL172</td>\n",
       "      <td>O[C@@H](c1cc(C(F)(F)F)nc2c(C(F)(F)F)cccc12)[C@...</td>\n",
       "      <td>40.0</td>\n",
       "      <td>ACTIVE</td>\n",
       "      <td>378.316</td>\n",
       "      <td>4.44790</td>\n",
       "      <td>2.0</td>\n",
       "      <td>3.0</td>\n",
       "      <td>7.397940</td>\n",
       "    </tr>\n",
       "    <tr>\n",
       "      <th>5</th>\n",
       "      <td>CHEMBL4166227</td>\n",
       "      <td>Clc1cccc2c1-c1ccccc1[I+]2.O=S(=O)([O-])C(F)(F)F</td>\n",
       "      <td>80.0</td>\n",
       "      <td>ACTIVE</td>\n",
       "      <td>462.614</td>\n",
       "      <td>0.50020</td>\n",
       "      <td>0.0</td>\n",
       "      <td>3.0</td>\n",
       "      <td>7.096910</td>\n",
       "    </tr>\n",
       "    <tr>\n",
       "      <th>6</th>\n",
       "      <td>CHEMBL4174142</td>\n",
       "      <td>Fc1cccc2c1-c1ccccc1[I+]2.O=S(=O)([O-])C(F)(F)F</td>\n",
       "      <td>80.0</td>\n",
       "      <td>ACTIVE</td>\n",
       "      <td>446.159</td>\n",
       "      <td>-0.01410</td>\n",
       "      <td>0.0</td>\n",
       "      <td>3.0</td>\n",
       "      <td>7.096910</td>\n",
       "    </tr>\n",
       "    <tr>\n",
       "      <th>7</th>\n",
       "      <td>CHEMBL4165957</td>\n",
       "      <td>N#Cc1ccc2c(c1)-c1ccccc1[I+]2.O=S(=O)([O-])C(F)...</td>\n",
       "      <td>110.0</td>\n",
       "      <td>ACTIVE</td>\n",
       "      <td>453.179</td>\n",
       "      <td>-0.28152</td>\n",
       "      <td>0.0</td>\n",
       "      <td>4.0</td>\n",
       "      <td>6.958607</td>\n",
       "    </tr>\n",
       "    <tr>\n",
       "      <th>8</th>\n",
       "      <td>CHEMBL4167328</td>\n",
       "      <td>O=S(=O)([O-])C(F)(F)F.c1ccc2c(c1)[I+]c1ccccc1-2</td>\n",
       "      <td>740.0</td>\n",
       "      <td>ACTIVE</td>\n",
       "      <td>428.169</td>\n",
       "      <td>-0.15320</td>\n",
       "      <td>0.0</td>\n",
       "      <td>3.0</td>\n",
       "      <td>6.130768</td>\n",
       "    </tr>\n",
       "  </tbody>\n",
       "</table>\n",
       "</div>"
      ],
      "text/plain": [
       "  molecule_chembl_id                                   canonical_smiles  \\\n",
       "0      CHEMBL1951761            CCCCCCCCCCCCC[C@H](O)C[C@H](O)[C@H](C)N   \n",
       "1      CHEMBL1951763           CCCCCCCCCCCCC[C@H](O)C[C@@H](O)[C@H](C)N   \n",
       "2      CHEMBL1951762           CCCCCCCCCCCCC[C@@H](O)C[C@H](O)[C@H](C)N   \n",
       "3           CHEMBL76                  CCN(CC)CCCC(C)Nc1ccnc2cc(Cl)ccc12   \n",
       "4          CHEMBL172  O[C@@H](c1cc(C(F)(F)F)nc2c(C(F)(F)F)cccc12)[C@...   \n",
       "5      CHEMBL4166227    Clc1cccc2c1-c1ccccc1[I+]2.O=S(=O)([O-])C(F)(F)F   \n",
       "6      CHEMBL4174142     Fc1cccc2c1-c1ccccc1[I+]2.O=S(=O)([O-])C(F)(F)F   \n",
       "7      CHEMBL4165957  N#Cc1ccc2c(c1)-c1ccccc1[I+]2.O=S(=O)([O-])C(F)...   \n",
       "8      CHEMBL4167328    O=S(=O)([O-])C(F)(F)F.c1ccc2c(c1)[I+]c1ccccc1-2   \n",
       "\n",
       "   standard_value bioactivity_class       MW     LogP  NumHDonors  \\\n",
       "0         10500.0          INACTIVE  301.515  4.14660         3.0   \n",
       "1         20300.0          INACTIVE  301.515  4.14660         3.0   \n",
       "2         17600.0          INACTIVE  301.515  4.14660         3.0   \n",
       "3            10.0            ACTIVE  319.880  4.81060         1.0   \n",
       "4            40.0            ACTIVE  378.316  4.44790         2.0   \n",
       "5            80.0            ACTIVE  462.614  0.50020         0.0   \n",
       "6            80.0            ACTIVE  446.159 -0.01410         0.0   \n",
       "7           110.0            ACTIVE  453.179 -0.28152         0.0   \n",
       "8           740.0            ACTIVE  428.169 -0.15320         0.0   \n",
       "\n",
       "   NumHAcceptors     pIC50  \n",
       "0            3.0  4.978811  \n",
       "1            3.0  4.692504  \n",
       "2            3.0  4.754487  \n",
       "3            3.0  8.000000  \n",
       "4            3.0  7.397940  \n",
       "5            3.0  7.096910  \n",
       "6            3.0  7.096910  \n",
       "7            4.0  6.958607  \n",
       "8            3.0  6.130768  "
      ]
     },
     "execution_count": 5,
     "metadata": {},
     "output_type": "execute_result"
    }
   ],
   "source": [
    "bioactivity_df = pd.read_csv(f'{target_id}_bioactivity_preprocessed.csv')\n",
    "bioactivity_df"
   ]
  },
  {
   "cell_type": "code",
   "execution_count": 42,
   "id": "93e02cb5-efa0-4c95-a8d1-b64d5ff57070",
   "metadata": {},
   "outputs": [
    {
     "data": {
      "text/html": [
       "<div>\n",
       "<style scoped>\n",
       "    .dataframe tbody tr th:only-of-type {\n",
       "        vertical-align: middle;\n",
       "    }\n",
       "\n",
       "    .dataframe tbody tr th {\n",
       "        vertical-align: top;\n",
       "    }\n",
       "\n",
       "    .dataframe thead th {\n",
       "        text-align: right;\n",
       "    }\n",
       "</style>\n",
       "<table border=\"1\" class=\"dataframe\">\n",
       "  <thead>\n",
       "    <tr style=\"text-align: right;\">\n",
       "      <th></th>\n",
       "      <th>Name</th>\n",
       "      <th>PubchemFP0</th>\n",
       "      <th>PubchemFP1</th>\n",
       "      <th>PubchemFP2</th>\n",
       "      <th>PubchemFP3</th>\n",
       "      <th>PubchemFP4</th>\n",
       "      <th>PubchemFP5</th>\n",
       "      <th>PubchemFP6</th>\n",
       "      <th>PubchemFP7</th>\n",
       "      <th>PubchemFP8</th>\n",
       "      <th>...</th>\n",
       "      <th>PubchemFP871</th>\n",
       "      <th>PubchemFP872</th>\n",
       "      <th>PubchemFP873</th>\n",
       "      <th>PubchemFP874</th>\n",
       "      <th>PubchemFP875</th>\n",
       "      <th>PubchemFP876</th>\n",
       "      <th>PubchemFP877</th>\n",
       "      <th>PubchemFP878</th>\n",
       "      <th>PubchemFP879</th>\n",
       "      <th>PubchemFP880</th>\n",
       "    </tr>\n",
       "  </thead>\n",
       "  <tbody>\n",
       "    <tr>\n",
       "      <th>0</th>\n",
       "      <td>CHEMBL1951763</td>\n",
       "      <td>1</td>\n",
       "      <td>1</td>\n",
       "      <td>1</td>\n",
       "      <td>1</td>\n",
       "      <td>0</td>\n",
       "      <td>0</td>\n",
       "      <td>0</td>\n",
       "      <td>0</td>\n",
       "      <td>0</td>\n",
       "      <td>...</td>\n",
       "      <td>0</td>\n",
       "      <td>0</td>\n",
       "      <td>0</td>\n",
       "      <td>0</td>\n",
       "      <td>0</td>\n",
       "      <td>0</td>\n",
       "      <td>0</td>\n",
       "      <td>0</td>\n",
       "      <td>0</td>\n",
       "      <td>0</td>\n",
       "    </tr>\n",
       "    <tr>\n",
       "      <th>1</th>\n",
       "      <td>CHEMBL1951761</td>\n",
       "      <td>1</td>\n",
       "      <td>1</td>\n",
       "      <td>1</td>\n",
       "      <td>1</td>\n",
       "      <td>0</td>\n",
       "      <td>0</td>\n",
       "      <td>0</td>\n",
       "      <td>0</td>\n",
       "      <td>0</td>\n",
       "      <td>...</td>\n",
       "      <td>0</td>\n",
       "      <td>0</td>\n",
       "      <td>0</td>\n",
       "      <td>0</td>\n",
       "      <td>0</td>\n",
       "      <td>0</td>\n",
       "      <td>0</td>\n",
       "      <td>0</td>\n",
       "      <td>0</td>\n",
       "      <td>0</td>\n",
       "    </tr>\n",
       "    <tr>\n",
       "      <th>2</th>\n",
       "      <td>CHEMBL76</td>\n",
       "      <td>1</td>\n",
       "      <td>1</td>\n",
       "      <td>1</td>\n",
       "      <td>0</td>\n",
       "      <td>0</td>\n",
       "      <td>0</td>\n",
       "      <td>0</td>\n",
       "      <td>0</td>\n",
       "      <td>0</td>\n",
       "      <td>...</td>\n",
       "      <td>0</td>\n",
       "      <td>0</td>\n",
       "      <td>0</td>\n",
       "      <td>0</td>\n",
       "      <td>0</td>\n",
       "      <td>0</td>\n",
       "      <td>0</td>\n",
       "      <td>0</td>\n",
       "      <td>0</td>\n",
       "      <td>0</td>\n",
       "    </tr>\n",
       "    <tr>\n",
       "      <th>3</th>\n",
       "      <td>CHEMBL1951762</td>\n",
       "      <td>1</td>\n",
       "      <td>1</td>\n",
       "      <td>1</td>\n",
       "      <td>1</td>\n",
       "      <td>0</td>\n",
       "      <td>0</td>\n",
       "      <td>0</td>\n",
       "      <td>0</td>\n",
       "      <td>0</td>\n",
       "      <td>...</td>\n",
       "      <td>0</td>\n",
       "      <td>0</td>\n",
       "      <td>0</td>\n",
       "      <td>0</td>\n",
       "      <td>0</td>\n",
       "      <td>0</td>\n",
       "      <td>0</td>\n",
       "      <td>0</td>\n",
       "      <td>0</td>\n",
       "      <td>0</td>\n",
       "    </tr>\n",
       "    <tr>\n",
       "      <th>4</th>\n",
       "      <td>CHEMBL4166227</td>\n",
       "      <td>1</td>\n",
       "      <td>0</td>\n",
       "      <td>0</td>\n",
       "      <td>0</td>\n",
       "      <td>0</td>\n",
       "      <td>0</td>\n",
       "      <td>0</td>\n",
       "      <td>0</td>\n",
       "      <td>0</td>\n",
       "      <td>...</td>\n",
       "      <td>0</td>\n",
       "      <td>0</td>\n",
       "      <td>0</td>\n",
       "      <td>0</td>\n",
       "      <td>0</td>\n",
       "      <td>0</td>\n",
       "      <td>0</td>\n",
       "      <td>0</td>\n",
       "      <td>0</td>\n",
       "      <td>0</td>\n",
       "    </tr>\n",
       "    <tr>\n",
       "      <th>5</th>\n",
       "      <td>CHEMBL172</td>\n",
       "      <td>1</td>\n",
       "      <td>1</td>\n",
       "      <td>1</td>\n",
       "      <td>0</td>\n",
       "      <td>0</td>\n",
       "      <td>0</td>\n",
       "      <td>0</td>\n",
       "      <td>0</td>\n",
       "      <td>0</td>\n",
       "      <td>...</td>\n",
       "      <td>0</td>\n",
       "      <td>0</td>\n",
       "      <td>0</td>\n",
       "      <td>0</td>\n",
       "      <td>0</td>\n",
       "      <td>0</td>\n",
       "      <td>0</td>\n",
       "      <td>0</td>\n",
       "      <td>0</td>\n",
       "      <td>0</td>\n",
       "    </tr>\n",
       "    <tr>\n",
       "      <th>6</th>\n",
       "      <td>CHEMBL4174142</td>\n",
       "      <td>1</td>\n",
       "      <td>0</td>\n",
       "      <td>0</td>\n",
       "      <td>0</td>\n",
       "      <td>0</td>\n",
       "      <td>0</td>\n",
       "      <td>0</td>\n",
       "      <td>0</td>\n",
       "      <td>0</td>\n",
       "      <td>...</td>\n",
       "      <td>0</td>\n",
       "      <td>0</td>\n",
       "      <td>0</td>\n",
       "      <td>0</td>\n",
       "      <td>0</td>\n",
       "      <td>0</td>\n",
       "      <td>0</td>\n",
       "      <td>0</td>\n",
       "      <td>0</td>\n",
       "      <td>0</td>\n",
       "    </tr>\n",
       "    <tr>\n",
       "      <th>7</th>\n",
       "      <td>CHEMBL4165957</td>\n",
       "      <td>1</td>\n",
       "      <td>0</td>\n",
       "      <td>0</td>\n",
       "      <td>0</td>\n",
       "      <td>0</td>\n",
       "      <td>0</td>\n",
       "      <td>0</td>\n",
       "      <td>0</td>\n",
       "      <td>0</td>\n",
       "      <td>...</td>\n",
       "      <td>0</td>\n",
       "      <td>0</td>\n",
       "      <td>0</td>\n",
       "      <td>0</td>\n",
       "      <td>0</td>\n",
       "      <td>0</td>\n",
       "      <td>0</td>\n",
       "      <td>0</td>\n",
       "      <td>0</td>\n",
       "      <td>0</td>\n",
       "    </tr>\n",
       "    <tr>\n",
       "      <th>8</th>\n",
       "      <td>CHEMBL4167328</td>\n",
       "      <td>1</td>\n",
       "      <td>1</td>\n",
       "      <td>0</td>\n",
       "      <td>0</td>\n",
       "      <td>0</td>\n",
       "      <td>0</td>\n",
       "      <td>0</td>\n",
       "      <td>0</td>\n",
       "      <td>0</td>\n",
       "      <td>...</td>\n",
       "      <td>0</td>\n",
       "      <td>0</td>\n",
       "      <td>0</td>\n",
       "      <td>0</td>\n",
       "      <td>0</td>\n",
       "      <td>0</td>\n",
       "      <td>0</td>\n",
       "      <td>0</td>\n",
       "      <td>0</td>\n",
       "      <td>0</td>\n",
       "    </tr>\n",
       "  </tbody>\n",
       "</table>\n",
       "<p>9 rows × 882 columns</p>\n",
       "</div>"
      ],
      "text/plain": [
       "            Name  PubchemFP0  PubchemFP1  PubchemFP2  PubchemFP3  PubchemFP4  \\\n",
       "0  CHEMBL1951763           1           1           1           1           0   \n",
       "1  CHEMBL1951761           1           1           1           1           0   \n",
       "2       CHEMBL76           1           1           1           0           0   \n",
       "3  CHEMBL1951762           1           1           1           1           0   \n",
       "4  CHEMBL4166227           1           0           0           0           0   \n",
       "5      CHEMBL172           1           1           1           0           0   \n",
       "6  CHEMBL4174142           1           0           0           0           0   \n",
       "7  CHEMBL4165957           1           0           0           0           0   \n",
       "8  CHEMBL4167328           1           1           0           0           0   \n",
       "\n",
       "   PubchemFP5  PubchemFP6  PubchemFP7  PubchemFP8  ...  PubchemFP871  \\\n",
       "0           0           0           0           0  ...             0   \n",
       "1           0           0           0           0  ...             0   \n",
       "2           0           0           0           0  ...             0   \n",
       "3           0           0           0           0  ...             0   \n",
       "4           0           0           0           0  ...             0   \n",
       "5           0           0           0           0  ...             0   \n",
       "6           0           0           0           0  ...             0   \n",
       "7           0           0           0           0  ...             0   \n",
       "8           0           0           0           0  ...             0   \n",
       "\n",
       "   PubchemFP872  PubchemFP873  PubchemFP874  PubchemFP875  PubchemFP876  \\\n",
       "0             0             0             0             0             0   \n",
       "1             0             0             0             0             0   \n",
       "2             0             0             0             0             0   \n",
       "3             0             0             0             0             0   \n",
       "4             0             0             0             0             0   \n",
       "5             0             0             0             0             0   \n",
       "6             0             0             0             0             0   \n",
       "7             0             0             0             0             0   \n",
       "8             0             0             0             0             0   \n",
       "\n",
       "   PubchemFP877  PubchemFP878  PubchemFP879  PubchemFP880  \n",
       "0             0             0             0             0  \n",
       "1             0             0             0             0  \n",
       "2             0             0             0             0  \n",
       "3             0             0             0             0  \n",
       "4             0             0             0             0  \n",
       "5             0             0             0             0  \n",
       "6             0             0             0             0  \n",
       "7             0             0             0             0  \n",
       "8             0             0             0             0  \n",
       "\n",
       "[9 rows x 882 columns]"
      ]
     },
     "execution_count": 42,
     "metadata": {},
     "output_type": "execute_result"
    }
   ],
   "source": [
    "fingerprint_df = pd.read_csv(f'{target_id}_pubchem_fp.csv')\n",
    "fingerprint_df"
   ]
  },
  {
   "cell_type": "code",
   "execution_count": 50,
   "id": "8cc2fdab-fca8-4c29-bbb3-ae3bfd797c24",
   "metadata": {},
   "outputs": [
    {
     "name": "stdout",
     "output_type": "stream",
     "text": [
      "Three representations of molecule CHEMBL76\n",
      "\n"
     ]
    },
    {
     "data": {
      "image/png": "[encoded data removed]",
      "text/plain": [
       "<rdkit.Chem.rdchem.Mol at 0x7fb19f9c15e0>"
      ]
     },
     "execution_count": 50,
     "metadata": {},
     "output_type": "execute_result"
    }
   ],
   "source": [
    "mol = 'CHEMBL76'\n",
    "SMILES = bioactivity_df.canonical_smiles[bioactivity_df.molecule_chembl_id==mol].values[0]\n",
    "fingerprint = np.array(fingerprint_df[fingerprint_df.Name==mol])[0][1:]\n",
    "\n",
    "print(f'Three representations of molecule {mol}\\n')\n",
    "Chem.MolFromSmiles(SMILES) #an example molecule"
   ]
  },
  {
   "cell_type": "code",
   "execution_count": 56,
   "id": "f6f623fd-eada-4901-a4cc-457582595119",
   "metadata": {},
   "outputs": [
    {
     "name": "stdout",
     "output_type": "stream",
     "text": [
      "2. SMILES notation: CCN(CC)CCCC(C)Nc1ccnc2cc(Cl)ccc12\n",
      "3. Chemical fingerprint:\n",
      "[1 1 1 0 0 0 0 0 0 1 1 1 1 0 1 1 0 0 0 0 0 0 0 0 0 0 0 0 0 0 0 0 0 0 0 0 0\n",
      " 1 0 0 0 0 0 0 0 0 0 0 0 0 0 0 0 0 0 0 0 0 0 0 0 0 0 0 0 0 0 0 0 0 0 0 0 0\n",
      " 0 0 0 0 0 0 0 0 0 0 0 0 0 0 0 0 0 0 0 0 0 0 0 0 0 0 0 0 0 0 0 0 0 0 0 0 0\n",
      " 0 0 0 0 0 0 0 0 0 0 0 0 0 0 0 0 0 0 0 0 0 0 0 0 0 0 0 0 0 0 0 0 0 0 0 0 0\n",
      " 0 0 0 0 0 0 0 0 0 0 0 0 0 0 0 0 0 0 0 0 0 0 0 0 0 0 0 0 0 0 1 1 1 1 0 0 0\n",
      " 1 0 0 0 0 0 0 0 0 0 0 0 0 0 0 0 0 0 0 0 0 0 0 0 0 0 0 0 0 0 0 0 0 0 0 0 0\n",
      " 0 0 0 0 0 0 0 0 0 0 0 0 0 0 0 0 0 0 0 0 0 0 0 0 0 0 0 0 0 0 0 0 0 1 1 1 0\n",
      " 0 0 0 0 0 0 0 0 0 0 0 0 0 0 0 0 0 0 0 0 0 0 0 0 1 1 1 0 0 0 0 0 0 0 0 1 0\n",
      " 0 0 0 1 0 0 0 0 0 0 0 0 0 0 0 0 0 0 0 0 0 0 0 0 0 0 0 0 0 0 0 0 0 0 0 0 1\n",
      " 1 0 0 0 0 1 0 1 0 1 0 1 1 0 0 0 0 0 1 0 0 0 1 1 1 1 0 0 0 1 0 0 1 0 0 0 0\n",
      " 1 1 1 1 1 0 1 1 0 0 0 0 0 0 1 1 1 1 0 0 1 1 1 1 0 0 1 0 0 0 0 0 0 1 0 0 0\n",
      " 0 0 0 0 0 0 0 0 0 1 0 1 0 0 0 0 0 0 0 0 0 0 0 1 1 0 0 1 1 0 1 0 0 0 1 1 0\n",
      " 0 1 1 1 0 1 0 0 0 1 0 0 0 0 0 0 0 0 0 0 1 0 0 0 0 0 1 0 1 0 0 0 0 0 0 0 0\n",
      " 0 1 0 0 0 0 0 0 0 1 1 0 0 0 1 0 0 0 0 0 1 1 1 0 0 1 0 0 0 0 0 0 0 0 0 1 0\n",
      " 0 0 1 1 0 1 1 0 0 0 1 0 1 0 0 0 0 0 0 0 1 1 1 0 0 0 0 1 1 0 0 1 1 0 1 0 0\n",
      " 1 1 0 0 0 0 0 0 0 1 0 0 0 0 0 1 0 0 0 0 0 1 1 1 0 0 0 1 0 1 1 0 0 0 0 0 1\n",
      " 1 1 0 1 0 0 1 1 1 1 0 1 0 0 0 1 1 0 0 0 0 1 0 0 0 0 1 0 0 1 0 0 0 0 0 0 1\n",
      " 0 0 0 0 1 1 0 0 0 0 0 1 0 0 1 0 0 0 0 0 0 0 0 0 0 0 0 1 1 0 0 1 0 0 0 1 1\n",
      " 0 0 1 0 0 0 0 0 0 0 0 1 1 1 0 0 0 1 0 0 0 0 1 0 0 0 0 0 0 0 1 0 0 0 0 0 0\n",
      " 0 0 0 0 0 1 1 1 0 0 0 0 0 0 1 0 0 0 0 0 0 0 0 0 0 0 0 0 0 0 0 0 0 0 0 0 0\n",
      " 0 0 0 0 0 0 0 0 0 0 1 0 0 0 0 0 0 0 1 0 0 0 0 0 0 0 0 0 0 0 0 0 0 0 0 0 0\n",
      " 0 0 0 1 0 0 0 0 0 0 0 0 0 0 0 0 0 0 0 0 0 0 0 0 0 0 0 0 0 0 0 0 0 0 0 0 1\n",
      " 0 0 0 0 0 0 0 1 0 0 0 0 0 0 0 0 0 0 0 0 0 0 0 0 0 0 0 0 0 0 0 0 0 0 0 0 0\n",
      " 0 0 0 0 0 0 0 0 0 0 0 0 0 0 0 0 0 0 0 0 0 0 0 0 0 0 0 0 0 0]\n"
     ]
    }
   ],
   "source": [
    "print('2. SMILES notation:', SMILES)\n",
    "print('3. Chemical fingerprint:')\n",
    "print(fingerprint)"
   ]
  },
  {
   "cell_type": "markdown",
   "id": "7660a68a",
   "metadata": {
    "id": "7660a68a"
   },
   "source": [
    "<a id='Explore'></a>\n",
    "## 3. Explore molecular descriptors"
   ]
  },
  {
   "cell_type": "code",
   "execution_count": null,
   "id": "b02db7bb-f032-4120-8e14-d76d5ee927c0",
   "metadata": {},
   "outputs": [],
   "source": [
    "import matplotlib.pyplot as plt\n",
    "import seaborn as sns\n",
    "\n",
    "plt.rcParams['figure.figsize'] = (5,5)\n",
    "plt.style.use('fivethirtyeight')"
   ]
  },
  {
   "cell_type": "code",
   "execution_count": null,
   "id": "d9ba0364",
   "metadata": {
    "colab": {
     "base_uri": "https://localhost:8080/",
     "height": 500
    },
    "id": "d9ba0364",
    "outputId": "5e841e4a-1f78-487c-a02a-9be7917b4378"
   },
   "outputs": [],
   "source": [
    "plt.figure(figsize=(12, 7))\n",
    "sns.scatterplot(x='MW', y='LogP', data=bioactivity_df, hue='bioactivity_class', size='pIC50', alpha=.7)\n",
    "plt.legend(bbox_to_anchor=(1,1))\n",
    "plt.title('Chemical spaces')\n",
    "plt.show()"
   ]
  },
  {
   "cell_type": "code",
   "execution_count": null,
   "id": "c0b50fe2-072d-4841-83ae-d2527ae59226",
   "metadata": {
    "tags": []
   },
   "outputs": [],
   "source": [
    "for column in ['pIC50', 'MW', 'LogP', 'NumHDonors', 'NumHAcceptors']:\n",
    "    sns.boxplot(x='bioactivity_class', y=column, data=bioactivity_df)\n",
    "    plt.xlabel('')\n",
    "    plt.show()"
   ]
  },
  {
   "cell_type": "markdown",
   "id": "WH8zEVPYIZQq",
   "metadata": {
    "id": "WH8zEVPYIZQq"
   },
   "source": [
    "<a id='Model'></a>\n",
    "## 4. Modeling the chemical fingerprints"
   ]
  },
  {
   "cell_type": "markdown",
   "id": "6486a79e-3cf0-4693-9618-9a485865070f",
   "metadata": {},
   "source": [
    "In this part, we use machine learning to determine the charchteristics of molecules with a high chance of being viable drug candidates.\n",
    "\n",
    "A note on modeling: $R^2$ is the percent of the variance in [potency](https://en.wikipedia.org/wiki/Potency_(pharmacology)) (as measured by $pIC_{50}$) is explained by the chemical fingerprint of the molecule."
   ]
  },
  {
   "cell_type": "code",
   "execution_count": null,
   "id": "82fe2c3c-0d49-4631-8856-3ed4d57dc615",
   "metadata": {},
   "outputs": [],
   "source": [
    "from sklearn.model_selection import train_test_split\n",
    "from sklearn.ensemble import RandomForestRegressor\n",
    "from sklearn.feature_selection import VarianceThreshold\n",
    "from sklearn.dummy import DummyRegressor\n",
    "from sklearn.model_selection import cross_val_score\n",
    "from src.prepare import preprocess_bioactivity_data"
   ]
  },
  {
   "cell_type": "code",
   "execution_count": null,
   "id": "gSruGbrYKpzx",
   "metadata": {
    "id": "gSruGbrYKpzx"
   },
   "outputs": [],
   "source": [
    "y = bioactivity_df['pIC50'] #response variable\n",
    "y.describe()"
   ]
  },
  {
   "cell_type": "code",
   "execution_count": null,
   "id": "Q8KecaTG0wyR",
   "metadata": {
    "id": "Q8KecaTG0wyR"
   },
   "outputs": [],
   "source": [
    "selector = VarianceThreshold(.1)\n",
    "X = selector.fit_transform(fingerprints.iloc[:,1:])"
   ]
  },
  {
   "cell_type": "code",
   "execution_count": null,
   "id": "zjOZlyVRKr6g",
   "metadata": {
    "colab": {
     "base_uri": "https://localhost:8080/"
    },
    "id": "zjOZlyVRKr6g",
    "outputId": "eea22d64-09c4-4a59-9d00-eeb7e19d46ec"
   },
   "outputs": [],
   "source": [
    "X_train, X_test, y_train, y_test = train_test_split(X, y, test_size=.2, random_state=36)\n",
    "X_train.shape, y_train.shape, X_test.shape, y_test.shape"
   ]
  },
  {
   "cell_type": "markdown",
   "id": "t0dnPgPRsg1C",
   "metadata": {
    "id": "t0dnPgPRsg1C"
   },
   "source": [
    "We've already dropped features with low variance (under 0.1) thereby reducing the fingerprint from 881 to 100-200 features. Now try to maximize the cross-validation score.\n"
   ]
  },
  {
   "cell_type": "code",
   "execution_count": null,
   "id": "cA2IsQ_VswK5",
   "metadata": {
    "colab": {
     "base_uri": "https://localhost:8080/"
    },
    "id": "cA2IsQ_VswK5",
    "outputId": "8f9b0240-3af6-4df7-eeeb-0351d24d349f",
    "tags": []
   },
   "outputs": [],
   "source": [
    "rfr = RandomForestRegressor(n_estimators=100, ccp_alpha=.01, random_state=36)\n",
    "cv_scores = cross_val_score(rfr, X_train, y_train, cv=5)\n",
    "print(\"Scores:\", cv_scores)\n",
    "print(\"Maximize the average:\", round(cv_scores.mean(),3))"
   ]
  },
  {
   "cell_type": "code",
   "execution_count": null,
   "id": "gI4DhDuZwtSr",
   "metadata": {
    "colab": {
     "base_uri": "https://localhost:8080/"
    },
    "id": "gI4DhDuZwtSr",
    "outputId": "da3d79b5-8910-4dd6-cb32-02d30c05ca80"
   },
   "outputs": [],
   "source": [
    "#Baseline\n",
    "median = y_train.median()\n",
    "dr = DummyRegressor(strategy='median').fit(X_train, y_train)\n",
    "#Evaluation\n",
    "print(\"Always predict\", median, \"\\n  R^2:\", round(dr.score(X_test, y_test),3))"
   ]
  },
  {
   "cell_type": "code",
   "execution_count": null,
   "id": "8GJnMSj6Ktz-",
   "metadata": {
    "colab": {
     "base_uri": "https://localhost:8080/"
    },
    "id": "8GJnMSj6Ktz-",
    "outputId": "37eafa28-a020-4fc3-fb17-042f7f7d3caa"
   },
   "outputs": [],
   "source": [
    "#Best model evaluation\n",
    "rfr.fit(X_train, y_train)\n",
    "print(\"Best model R^2:\", round(rfr.score(X_test, y_test),3))"
   ]
  },
  {
   "cell_type": "code",
   "execution_count": null,
   "id": "FKhF1VcFK34X",
   "metadata": {
    "colab": {
     "base_uri": "https://localhost:8080/",
     "height": 445
    },
    "id": "FKhF1VcFK34X",
    "outputId": "b2ef7750-abaa-402a-8959-b7bc4251f181"
   },
   "outputs": [],
   "source": [
    "rf_preds = rfr.predict(X_test)\n",
    "\n",
    "ax = sns.regplot(x=y_test, y=rf_preds, scatter_kws={'alpha':.4})\n",
    "ax.axvline(y_train.median(), color='gray', alpha=.5)\n",
    "ax.text(median+.1, 3, 'baseline \\n(median)', color='gray')\n",
    "ax.set_xlabel('Experimental $pIC_{50}$')\n",
    "ax.set_ylabel('Predicted $pIC_{50}$')\n",
    "ax.set_title('Residual plot')\n",
    "pIC50_range = (y_test.min()-.2, y_test.max()+.2)\n",
    "ax.set_xlim(pIC50_range)\n",
    "ax.set_ylim(pIC50_range)\n",
    "plt.show()"
   ]
  }
 ],
 "metadata": {
  "colab": {
   "collapsed_sections": [],
   "name": "drug-discovery-colab.ipynb",
   "provenance": []
  },
  "kernelspec": {
   "display_name": "Python 3 (ipykernel)",
   "language": "python",
   "name": "python3"
  },
  "language_info": {
   "codemirror_mode": {
    "name": "ipython",
    "version": 3
   },
   "file_extension": ".py",
   "mimetype": "text/x-python",
   "name": "python",
   "nbconvert_exporter": "python",
   "pygments_lexer": "ipython3",
   "version": "3.8.10"
  }
 },
 "nbformat": 4,
 "nbformat_minor": 5
}
