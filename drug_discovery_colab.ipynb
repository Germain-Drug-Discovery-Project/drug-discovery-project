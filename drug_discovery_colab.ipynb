{
  "nbformat": 4,
  "nbformat_minor": 5,
  "metadata": {
    "colab": {
      "name": "drug-discovery-colab.ipynb",
      "provenance": [],
      "collapsed_sections": []
    },
    "kernelspec": {
      "display_name": "Python 3 (ipykernel)",
      "language": "python",
      "name": "python3"
    },
    "language_info": {
      "codemirror_mode": {
        "name": "ipython",
        "version": 3
      },
      "file_extension": ".py",
      "mimetype": "text/x-python",
      "name": "python",
      "nbconvert_exporter": "python",
      "pygments_lexer": "ipython3",
      "version": "3.8.10"
    }
  },
  "cells": [
    {
      "cell_type": "markdown",
      "metadata": {
        "id": "wAQccHGpLEJj"
      },
      "source": [
        "#Drug Discovery using the ChEMBL Webresource Client\n",
        "\n",
        "This is the third version of a drug discovery project notebook created by Chanin Nantasenamat & Ian Johnson.\n",
        "\n",
        "Changes in this version:\n",
        "\n",
        "* All necessary downloads and imports are done up front. This notebook should run in Colab so long as the end user mounts his/her own Google Drive and specifies an output folder path.\n",
        "\n",
        "* The target protein is acetylcholinesterase (AChE) as observed in the common rat. The human version of this enzyme may be used as well but the data will take longer to load.\n",
        "\n",
        "* An example molecule from the dataset is depicted.\n",
        "\n",
        "* Functions used to process and visualize the data are made more 'Pythonic' resulting in much fewer lines of code.\n",
        "\n",
        "* Molecules appearing in the dataset more than once (due to multiple assays using that molecule) are limited to the observation with the smallest IC50 value (highest potency.) It's worth noting that there is variance in IC50 measurements for identical molecule-target protein pairs.\n",
        "\n",
        "* Plots use FiveThirtyEight styling.\n",
        "\n",
        "* k-Fold Cross-Validation for choosing model hyperparameters.\n",
        "\n",
        "* Baseline dummy regressor.\n",
        "\n",
        "This notebook will create three files when ran from start to finish.\n",
        "\n",
        "  * a csv file of bioactivity data resulting from querying the client for the specific protein\n",
        "\n",
        "  * a csv file containing preprocessed data with added columns for Lapinski descriptors, $pIC_{50}$ values, and a binary class variable ('ACTIVE', 'INACTIVE') indicating whether or not each molecule is reactive with the target.\n",
        "\n",
        "  * a csv file containing the chemical fingerprint for each molecule in the dataset (the function to create this file probably needs to be optimized using the *padeldescriptor* import because it has a very long runtime)\n",
        "\n",
        "The model used - a random forest regressor - achieves an $R^2$ of .73 in this example. In other words, 73 percent of the variance in [potency](https://en.wikipedia.org/wiki/Potency_(pharmacology)) (as measured by $pIC_{50}$) is explained by the chemical fingerprint of the molecule."
      ],
      "id": "wAQccHGpLEJj"
    },
    {
      "cell_type": "markdown",
      "metadata": {
        "id": "_LvHrXyXy0aZ"
      },
      "source": [
        "#Contents\n",
        "\n",
        "1.   [Acquire](#Acquire)\n",
        "2.   [Prepare](#Prepare)\n",
        "3.   [Explore](#Explore)\n",
        "4.   [Model](#Model)\n",
        "\n"
      ],
      "id": "_LvHrXyXy0aZ"
    },
    {
      "cell_type": "markdown",
      "metadata": {
        "id": "qcjZxz77kMt8"
      },
      "source": [
        "<a id='Imports'></a>\n",
        "#Imports"
      ],
      "id": "qcjZxz77kMt8"
    },
    {
      "cell_type": "code",
      "metadata": {
        "id": "dTNc5xgkWXvR"
      },
      "source": [
        "%%bash\n",
        "pip install chembl_webresource_client\n",
        "pip install padelpy\n",
        "wget https://repo.anaconda.com/miniconda/Miniconda3-py37_4.8.2-Linux-x86_64.sh\n",
        "chmod +x Miniconda3-py37_4.8.2-Linux-x86_64.sh\n",
        "bash ./Miniconda3-py37_4.8.2-Linux-x86_64.sh -b -f -p /usr/local\n",
        "conda install -c rdkit rdkit -y"
      ],
      "id": "dTNc5xgkWXvR",
      "execution_count": null,
      "outputs": []
    },
    {
      "cell_type": "code",
      "metadata": {
        "id": "09a4b1f3"
      },
      "source": [
        "import sys\n",
        "\n",
        "sys.path.append('/usr/local/lib/python3.7/site-packages/') #path to RDKit\n",
        "\n",
        "import numpy as np\n",
        "import pandas as pd\n",
        "import matplotlib.pyplot as plt\n",
        "import seaborn as sns\n",
        "from scipy import stats as scs\n",
        "\n",
        "plt.rcParams['figure.figsize'] = (6, 6)\n",
        "plt.style.use('fivethirtyeight')\n",
        "\n",
        "from chembl_webresource_client.new_client import new_client\n",
        "from rdkit import Chem\n",
        "from rdkit.Chem.Draw import IPythonConsole\n",
        "from rdkit.Chem import Descriptors, Lipinski\n",
        "from padelpy import padeldescriptor, from_smiles\n",
        "\n",
        "from sklearn.model_selection import train_test_split\n",
        "from sklearn.ensemble import RandomForestRegressor\n",
        "from sklearn.feature_selection import VarianceThreshold\n",
        "from sklearn.dummy import DummyRegressor\n",
        "from sklearn.model_selection import cross_val_score\n",
        "\n",
        "import pickle\n",
        "\n",
        "#GDrive mounted using sidebar\n",
        "PATH = \"/content/drive/MyDrive/Colab Notebooks/data/chembl/\" #folder for files"
      ],
      "id": "09a4b1f3",
      "execution_count": null,
      "outputs": []
    },
    {
      "cell_type": "markdown",
      "metadata": {
        "id": "bdwSYSyMjzt2"
      },
      "source": [
        "<a name='Acquire'></a>\n",
        "#Acquire"
      ],
      "id": "bdwSYSyMjzt2"
    },
    {
      "cell_type": "code",
      "metadata": {
        "id": "LlrMNFhef2a-"
      },
      "source": [
        "TARGET_NAME = \"acetylcholinesterase\" #enzyme associated with Alzheimer's\n",
        "STANDARD_TYPE = \"IC50\"\n",
        "TARGET_ID = 3199 #AChE Rattus norvegicus"
      ],
      "id": "LlrMNFhef2a-",
      "execution_count": null,
      "outputs": []
    },
    {
      "cell_type": "code",
      "metadata": {
        "colab": {
          "base_uri": "https://localhost:8080/",
          "height": 342
        },
        "id": "dc06a2f1",
        "outputId": "8caa9540-13c4-412a-abd9-04d5659f2c74"
      },
      "source": [
        "query = new_client.target.search(TARGET_NAME)\n",
        "targets = pd.DataFrame(query)\n",
        "targets.head(6)"
      ],
      "id": "dc06a2f1",
      "execution_count": null,
      "outputs": [
        {
          "output_type": "execute_result",
          "data": {
            "text/html": [
              "<div>\n",
              "<style scoped>\n",
              "    .dataframe tbody tr th:only-of-type {\n",
              "        vertical-align: middle;\n",
              "    }\n",
              "\n",
              "    .dataframe tbody tr th {\n",
              "        vertical-align: top;\n",
              "    }\n",
              "\n",
              "    .dataframe thead th {\n",
              "        text-align: right;\n",
              "    }\n",
              "</style>\n",
              "<table border=\"1\" class=\"dataframe\">\n",
              "  <thead>\n",
              "    <tr style=\"text-align: right;\">\n",
              "      <th></th>\n",
              "      <th>cross_references</th>\n",
              "      <th>organism</th>\n",
              "      <th>pref_name</th>\n",
              "      <th>score</th>\n",
              "      <th>species_group_flag</th>\n",
              "      <th>target_chembl_id</th>\n",
              "      <th>target_components</th>\n",
              "      <th>target_type</th>\n",
              "      <th>tax_id</th>\n",
              "    </tr>\n",
              "  </thead>\n",
              "  <tbody>\n",
              "    <tr>\n",
              "      <th>0</th>\n",
              "      <td>[{'xref_id': 'P22303', 'xref_name': None, 'xre...</td>\n",
              "      <td>Homo sapiens</td>\n",
              "      <td>Acetylcholinesterase</td>\n",
              "      <td>27.0</td>\n",
              "      <td>False</td>\n",
              "      <td>CHEMBL220</td>\n",
              "      <td>[{'accession': 'P22303', 'component_descriptio...</td>\n",
              "      <td>SINGLE PROTEIN</td>\n",
              "      <td>9606</td>\n",
              "    </tr>\n",
              "    <tr>\n",
              "      <th>1</th>\n",
              "      <td>[]</td>\n",
              "      <td>Homo sapiens</td>\n",
              "      <td>Cholinesterases; ACHE &amp; BCHE</td>\n",
              "      <td>27.0</td>\n",
              "      <td>False</td>\n",
              "      <td>CHEMBL2095233</td>\n",
              "      <td>[{'accession': 'P06276', 'component_descriptio...</td>\n",
              "      <td>SELECTIVITY GROUP</td>\n",
              "      <td>9606</td>\n",
              "    </tr>\n",
              "    <tr>\n",
              "      <th>2</th>\n",
              "      <td>[]</td>\n",
              "      <td>Drosophila melanogaster</td>\n",
              "      <td>Acetylcholinesterase</td>\n",
              "      <td>17.0</td>\n",
              "      <td>False</td>\n",
              "      <td>CHEMBL2242744</td>\n",
              "      <td>[{'accession': 'P07140', 'component_descriptio...</td>\n",
              "      <td>SINGLE PROTEIN</td>\n",
              "      <td>7227</td>\n",
              "    </tr>\n",
              "    <tr>\n",
              "      <th>3</th>\n",
              "      <td>[{'xref_id': 'P04058', 'xref_name': None, 'xre...</td>\n",
              "      <td>Torpedo californica</td>\n",
              "      <td>Acetylcholinesterase</td>\n",
              "      <td>15.0</td>\n",
              "      <td>False</td>\n",
              "      <td>CHEMBL4780</td>\n",
              "      <td>[{'accession': 'P04058', 'component_descriptio...</td>\n",
              "      <td>SINGLE PROTEIN</td>\n",
              "      <td>7787</td>\n",
              "    </tr>\n",
              "    <tr>\n",
              "      <th>4</th>\n",
              "      <td>[{'xref_id': 'P21836', 'xref_name': None, 'xre...</td>\n",
              "      <td>Mus musculus</td>\n",
              "      <td>Acetylcholinesterase</td>\n",
              "      <td>15.0</td>\n",
              "      <td>False</td>\n",
              "      <td>CHEMBL3198</td>\n",
              "      <td>[{'accession': 'P21836', 'component_descriptio...</td>\n",
              "      <td>SINGLE PROTEIN</td>\n",
              "      <td>10090</td>\n",
              "    </tr>\n",
              "    <tr>\n",
              "      <th>5</th>\n",
              "      <td>[{'xref_id': 'P37136', 'xref_name': None, 'xre...</td>\n",
              "      <td>Rattus norvegicus</td>\n",
              "      <td>Acetylcholinesterase</td>\n",
              "      <td>15.0</td>\n",
              "      <td>False</td>\n",
              "      <td>CHEMBL3199</td>\n",
              "      <td>[{'accession': 'P37136', 'component_descriptio...</td>\n",
              "      <td>SINGLE PROTEIN</td>\n",
              "      <td>10116</td>\n",
              "    </tr>\n",
              "  </tbody>\n",
              "</table>\n",
              "</div>"
            ],
            "text/plain": [
              "                                    cross_references  ... tax_id\n",
              "0  [{'xref_id': 'P22303', 'xref_name': None, 'xre...  ...   9606\n",
              "1                                                 []  ...   9606\n",
              "2                                                 []  ...   7227\n",
              "3  [{'xref_id': 'P04058', 'xref_name': None, 'xre...  ...   7787\n",
              "4  [{'xref_id': 'P21836', 'xref_name': None, 'xre...  ...  10090\n",
              "5  [{'xref_id': 'P37136', 'xref_name': None, 'xre...  ...  10116\n",
              "\n",
              "[6 rows x 9 columns]"
            ]
          },
          "metadata": {},
          "execution_count": 4
        }
      ]
    },
    {
      "cell_type": "markdown",
      "metadata": {
        "id": "Ebs7w_ivcYEF"
      },
      "source": [
        "The **standard_value** column represents **potency**. A lower value means a smaller dose is needed to exhibit an effect while higher value means the compound is less potent. Here is how to retrieve bioactivity data for a target protein. The standard_type='IC50' filters for bioactivity tests using the IC50 standard."
      ],
      "id": "Ebs7w_ivcYEF"
    },
    {
      "cell_type": "code",
      "metadata": {
        "colab": {
          "base_uri": "https://localhost:8080/",
          "height": 400
        },
        "id": "b4687ea5",
        "outputId": "70e8ecc7-d78c-48f5-91ce-65bd44d15c46"
      },
      "source": [
        "result = new_client.activity.filter(target_chembl_id = \"CHEMBL\"+str(TARGET_ID)).filter(standard_type=STANDARD_TYPE)\n",
        "df = pd.DataFrame(result).dropna(subset=[\"value\"]) #drop row if standard_value is missing\n",
        "df.head()"
      ],
      "id": "b4687ea5",
      "execution_count": null,
      "outputs": [
        {
          "output_type": "execute_result",
          "data": {
            "text/html": [
              "<div>\n",
              "<style scoped>\n",
              "    .dataframe tbody tr th:only-of-type {\n",
              "        vertical-align: middle;\n",
              "    }\n",
              "\n",
              "    .dataframe tbody tr th {\n",
              "        vertical-align: top;\n",
              "    }\n",
              "\n",
              "    .dataframe thead th {\n",
              "        text-align: right;\n",
              "    }\n",
              "</style>\n",
              "<table border=\"1\" class=\"dataframe\">\n",
              "  <thead>\n",
              "    <tr style=\"text-align: right;\">\n",
              "      <th></th>\n",
              "      <th>activity_comment</th>\n",
              "      <th>activity_id</th>\n",
              "      <th>activity_properties</th>\n",
              "      <th>assay_chembl_id</th>\n",
              "      <th>assay_description</th>\n",
              "      <th>assay_type</th>\n",
              "      <th>assay_variant_accession</th>\n",
              "      <th>assay_variant_mutation</th>\n",
              "      <th>bao_endpoint</th>\n",
              "      <th>bao_format</th>\n",
              "      <th>bao_label</th>\n",
              "      <th>canonical_smiles</th>\n",
              "      <th>data_validity_comment</th>\n",
              "      <th>data_validity_description</th>\n",
              "      <th>document_chembl_id</th>\n",
              "      <th>document_journal</th>\n",
              "      <th>document_year</th>\n",
              "      <th>ligand_efficiency</th>\n",
              "      <th>molecule_chembl_id</th>\n",
              "      <th>molecule_pref_name</th>\n",
              "      <th>parent_molecule_chembl_id</th>\n",
              "      <th>pchembl_value</th>\n",
              "      <th>potential_duplicate</th>\n",
              "      <th>qudt_units</th>\n",
              "      <th>record_id</th>\n",
              "      <th>relation</th>\n",
              "      <th>src_id</th>\n",
              "      <th>standard_flag</th>\n",
              "      <th>standard_relation</th>\n",
              "      <th>standard_text_value</th>\n",
              "      <th>standard_type</th>\n",
              "      <th>standard_units</th>\n",
              "      <th>standard_upper_value</th>\n",
              "      <th>standard_value</th>\n",
              "      <th>target_chembl_id</th>\n",
              "      <th>target_organism</th>\n",
              "      <th>target_pref_name</th>\n",
              "      <th>target_tax_id</th>\n",
              "      <th>text_value</th>\n",
              "      <th>toid</th>\n",
              "      <th>type</th>\n",
              "      <th>units</th>\n",
              "      <th>uo_units</th>\n",
              "      <th>upper_value</th>\n",
              "      <th>value</th>\n",
              "    </tr>\n",
              "  </thead>\n",
              "  <tbody>\n",
              "    <tr>\n",
              "      <th>0</th>\n",
              "      <td>None</td>\n",
              "      <td>32049</td>\n",
              "      <td>[]</td>\n",
              "      <td>CHEMBL642843</td>\n",
              "      <td>Effect on Acetylcholinesterase activity in rat...</td>\n",
              "      <td>B</td>\n",
              "      <td>None</td>\n",
              "      <td>None</td>\n",
              "      <td>BAO_0000190</td>\n",
              "      <td>BAO_0000219</td>\n",
              "      <td>cell-based format</td>\n",
              "      <td>CC[N+](C)(CC)CC(=O)CCN1C(=O)CCC1=O.[I-]</td>\n",
              "      <td>None</td>\n",
              "      <td>None</td>\n",
              "      <td>CHEMBL1123058</td>\n",
              "      <td>J. Med. Chem.</td>\n",
              "      <td>1985</td>\n",
              "      <td>{'bei': '15.67', 'le': '0.30', 'lle': '3.42', ...</td>\n",
              "      <td>CHEMBL15886</td>\n",
              "      <td>None</td>\n",
              "      <td>CHEMBL1178213</td>\n",
              "      <td>4.00</td>\n",
              "      <td>False</td>\n",
              "      <td>http://www.openphacts.org/units/Nanomolar</td>\n",
              "      <td>17693</td>\n",
              "      <td>=</td>\n",
              "      <td>1</td>\n",
              "      <td>True</td>\n",
              "      <td>=</td>\n",
              "      <td>None</td>\n",
              "      <td>IC50</td>\n",
              "      <td>nM</td>\n",
              "      <td>None</td>\n",
              "      <td>100000.0</td>\n",
              "      <td>CHEMBL3199</td>\n",
              "      <td>Rattus norvegicus</td>\n",
              "      <td>Acetylcholinesterase</td>\n",
              "      <td>10116</td>\n",
              "      <td>None</td>\n",
              "      <td>None</td>\n",
              "      <td>I50</td>\n",
              "      <td>mM</td>\n",
              "      <td>UO_0000065</td>\n",
              "      <td>None</td>\n",
              "      <td>0.1</td>\n",
              "    </tr>\n",
              "    <tr>\n",
              "      <th>1</th>\n",
              "      <td>None</td>\n",
              "      <td>32050</td>\n",
              "      <td>[]</td>\n",
              "      <td>CHEMBL642842</td>\n",
              "      <td>Effect on Acetylcholinesterase activity in rat...</td>\n",
              "      <td>B</td>\n",
              "      <td>None</td>\n",
              "      <td>None</td>\n",
              "      <td>BAO_0000190</td>\n",
              "      <td>BAO_0000221</td>\n",
              "      <td>tissue-based format</td>\n",
              "      <td>CC[N+](C)(CC)CC(=O)CCN1C(=O)CCC1=O.[I-]</td>\n",
              "      <td>Outside typical range</td>\n",
              "      <td>Values for this activity type are unusually la...</td>\n",
              "      <td>CHEMBL1123058</td>\n",
              "      <td>J. Med. Chem.</td>\n",
              "      <td>1985</td>\n",
              "      <td>None</td>\n",
              "      <td>CHEMBL15886</td>\n",
              "      <td>None</td>\n",
              "      <td>CHEMBL1178213</td>\n",
              "      <td>None</td>\n",
              "      <td>False</td>\n",
              "      <td>http://www.openphacts.org/units/Nanomolar</td>\n",
              "      <td>17693</td>\n",
              "      <td>=</td>\n",
              "      <td>1</td>\n",
              "      <td>True</td>\n",
              "      <td>=</td>\n",
              "      <td>None</td>\n",
              "      <td>IC50</td>\n",
              "      <td>nM</td>\n",
              "      <td>None</td>\n",
              "      <td>170000.0</td>\n",
              "      <td>CHEMBL3199</td>\n",
              "      <td>Rattus norvegicus</td>\n",
              "      <td>Acetylcholinesterase</td>\n",
              "      <td>10116</td>\n",
              "      <td>None</td>\n",
              "      <td>None</td>\n",
              "      <td>I50</td>\n",
              "      <td>mM</td>\n",
              "      <td>UO_0000065</td>\n",
              "      <td>None</td>\n",
              "      <td>0.17</td>\n",
              "    </tr>\n",
              "    <tr>\n",
              "      <th>2</th>\n",
              "      <td>None</td>\n",
              "      <td>34486</td>\n",
              "      <td>[]</td>\n",
              "      <td>CHEMBL642843</td>\n",
              "      <td>Effect on Acetylcholinesterase activity in rat...</td>\n",
              "      <td>B</td>\n",
              "      <td>None</td>\n",
              "      <td>None</td>\n",
              "      <td>BAO_0000190</td>\n",
              "      <td>BAO_0000219</td>\n",
              "      <td>cell-based format</td>\n",
              "      <td>C[n+]1ccccc1CCC(O)CCl.[I-]</td>\n",
              "      <td>Outside typical range</td>\n",
              "      <td>Values for this activity type are unusually la...</td>\n",
              "      <td>CHEMBL1123058</td>\n",
              "      <td>J. Med. Chem.</td>\n",
              "      <td>1985</td>\n",
              "      <td>None</td>\n",
              "      <td>CHEMBL556129</td>\n",
              "      <td>None</td>\n",
              "      <td>CHEMBL1196197</td>\n",
              "      <td>None</td>\n",
              "      <td>False</td>\n",
              "      <td>http://www.openphacts.org/units/Nanomolar</td>\n",
              "      <td>17691</td>\n",
              "      <td>=</td>\n",
              "      <td>1</td>\n",
              "      <td>True</td>\n",
              "      <td>=</td>\n",
              "      <td>None</td>\n",
              "      <td>IC50</td>\n",
              "      <td>nM</td>\n",
              "      <td>None</td>\n",
              "      <td>200000.0</td>\n",
              "      <td>CHEMBL3199</td>\n",
              "      <td>Rattus norvegicus</td>\n",
              "      <td>Acetylcholinesterase</td>\n",
              "      <td>10116</td>\n",
              "      <td>None</td>\n",
              "      <td>None</td>\n",
              "      <td>I50</td>\n",
              "      <td>mM</td>\n",
              "      <td>UO_0000065</td>\n",
              "      <td>None</td>\n",
              "      <td>0.2</td>\n",
              "    </tr>\n",
              "    <tr>\n",
              "      <th>3</th>\n",
              "      <td>None</td>\n",
              "      <td>34487</td>\n",
              "      <td>[]</td>\n",
              "      <td>CHEMBL642842</td>\n",
              "      <td>Effect on Acetylcholinesterase activity in rat...</td>\n",
              "      <td>B</td>\n",
              "      <td>None</td>\n",
              "      <td>None</td>\n",
              "      <td>BAO_0000190</td>\n",
              "      <td>BAO_0000221</td>\n",
              "      <td>tissue-based format</td>\n",
              "      <td>C[n+]1ccccc1CCC(O)CCl.[I-]</td>\n",
              "      <td>Outside typical range</td>\n",
              "      <td>Values for this activity type are unusually la...</td>\n",
              "      <td>CHEMBL1123058</td>\n",
              "      <td>J. Med. Chem.</td>\n",
              "      <td>1985</td>\n",
              "      <td>None</td>\n",
              "      <td>CHEMBL556129</td>\n",
              "      <td>None</td>\n",
              "      <td>CHEMBL1196197</td>\n",
              "      <td>None</td>\n",
              "      <td>False</td>\n",
              "      <td>http://www.openphacts.org/units/Nanomolar</td>\n",
              "      <td>17691</td>\n",
              "      <td>=</td>\n",
              "      <td>1</td>\n",
              "      <td>True</td>\n",
              "      <td>=</td>\n",
              "      <td>None</td>\n",
              "      <td>IC50</td>\n",
              "      <td>nM</td>\n",
              "      <td>None</td>\n",
              "      <td>200000.0</td>\n",
              "      <td>CHEMBL3199</td>\n",
              "      <td>Rattus norvegicus</td>\n",
              "      <td>Acetylcholinesterase</td>\n",
              "      <td>10116</td>\n",
              "      <td>None</td>\n",
              "      <td>None</td>\n",
              "      <td>I50</td>\n",
              "      <td>mM</td>\n",
              "      <td>UO_0000065</td>\n",
              "      <td>None</td>\n",
              "      <td>0.2</td>\n",
              "    </tr>\n",
              "    <tr>\n",
              "      <th>4</th>\n",
              "      <td>None</td>\n",
              "      <td>38116</td>\n",
              "      <td>[]</td>\n",
              "      <td>CHEMBL642843</td>\n",
              "      <td>Effect on Acetylcholinesterase activity in rat...</td>\n",
              "      <td>B</td>\n",
              "      <td>None</td>\n",
              "      <td>None</td>\n",
              "      <td>BAO_0000190</td>\n",
              "      <td>BAO_0000219</td>\n",
              "      <td>cell-based format</td>\n",
              "      <td>C[N+](C)(C)CCCCl.[Br-]</td>\n",
              "      <td>Outside typical range</td>\n",
              "      <td>Values for this activity type are unusually la...</td>\n",
              "      <td>CHEMBL1123058</td>\n",
              "      <td>J. Med. Chem.</td>\n",
              "      <td>1985</td>\n",
              "      <td>None</td>\n",
              "      <td>CHEMBL15795</td>\n",
              "      <td>None</td>\n",
              "      <td>CHEMBL1178211</td>\n",
              "      <td>None</td>\n",
              "      <td>False</td>\n",
              "      <td>http://www.openphacts.org/units/Nanomolar</td>\n",
              "      <td>17688</td>\n",
              "      <td>=</td>\n",
              "      <td>1</td>\n",
              "      <td>True</td>\n",
              "      <td>=</td>\n",
              "      <td>None</td>\n",
              "      <td>IC50</td>\n",
              "      <td>nM</td>\n",
              "      <td>None</td>\n",
              "      <td>260000.0</td>\n",
              "      <td>CHEMBL3199</td>\n",
              "      <td>Rattus norvegicus</td>\n",
              "      <td>Acetylcholinesterase</td>\n",
              "      <td>10116</td>\n",
              "      <td>None</td>\n",
              "      <td>None</td>\n",
              "      <td>I50</td>\n",
              "      <td>mM</td>\n",
              "      <td>UO_0000065</td>\n",
              "      <td>None</td>\n",
              "      <td>0.26</td>\n",
              "    </tr>\n",
              "  </tbody>\n",
              "</table>\n",
              "</div>"
            ],
            "text/plain": [
              "  activity_comment  activity_id  ... upper_value value\n",
              "0             None        32049  ...        None   0.1\n",
              "1             None        32050  ...        None  0.17\n",
              "2             None        34486  ...        None   0.2\n",
              "3             None        34487  ...        None   0.2\n",
              "4             None        38116  ...        None  0.26\n",
              "\n",
              "[5 rows x 45 columns]"
            ]
          },
          "metadata": {},
          "execution_count": 7
        }
      ]
    },
    {
      "cell_type": "code",
      "metadata": {
        "id": "ZSFdhxwjXRFQ"
      },
      "source": [
        "df.to_csv(PATH+f'{TARGET_ID}_bioactivity_data.csv', index=False)"
      ],
      "id": "ZSFdhxwjXRFQ",
      "execution_count": null,
      "outputs": []
    },
    {
      "cell_type": "markdown",
      "metadata": {
        "id": "KP3WVcHdgJFi"
      },
      "source": [
        "A list of the molecules tested against our target."
      ],
      "id": "KP3WVcHdgJFi"
    },
    {
      "cell_type": "code",
      "metadata": {
        "colab": {
          "base_uri": "https://localhost:8080/"
        },
        "id": "b4cb56cf",
        "outputId": "b8cbf6dc-ba92-4988-b4e7-665066a26972"
      },
      "source": [
        "df.molecule_chembl_id"
      ],
      "id": "b4cb56cf",
      "execution_count": null,
      "outputs": [
        {
          "output_type": "execute_result",
          "data": {
            "text/plain": [
              "0         CHEMBL15886\n",
              "1         CHEMBL15886\n",
              "2        CHEMBL556129\n",
              "3        CHEMBL556129\n",
              "4         CHEMBL15795\n",
              "            ...      \n",
              "1685    CHEMBL4475678\n",
              "1686    CHEMBL4451935\n",
              "1687        CHEMBL636\n",
              "1688        CHEMBL502\n",
              "1689     CHEMBL231160\n",
              "Name: molecule_chembl_id, Length: 1690, dtype: object"
            ]
          },
          "metadata": {},
          "execution_count": 85
        }
      ]
    },
    {
      "cell_type": "code",
      "metadata": {
        "colab": {
          "base_uri": "https://localhost:8080/",
          "height": 167
        },
        "id": "dN1oa31Ew4f5",
        "outputId": "966fef42-0763-46ed-e003-9d814aa5a492"
      },
      "source": [
        "#here is an example of the molecular structure we're using to predict potency with AChE\n",
        "Chem.MolFromSmiles(df.canonical_smiles[36])"
      ],
      "id": "dN1oa31Ew4f5",
      "execution_count": null,
      "outputs": [
        {
          "output_type": "execute_result",
          "data": {
            "image/png": "[encoded data removed]",
            "text/plain": [
              "<rdkit.Chem.rdchem.Mol at 0x7fb71477cbc0>"
            ]
          },
          "metadata": {},
          "execution_count": 9
        }
      ]
    },
    {
      "cell_type": "markdown",
      "metadata": {
        "id": "RW3v3MRVj3d7"
      },
      "source": [
        "<a name='Prepare'></a>\n",
        "#Prepare"
      ],
      "id": "RW3v3MRVj3d7"
    },
    {
      "cell_type": "code",
      "metadata": {
        "id": "ACwfqjeUn2wD"
      },
      "source": [
        "df = pd.read_csv(PATH+f'{TARGET_ID}_bioactivity_data.csv')"
      ],
      "id": "ACwfqjeUn2wD",
      "execution_count": null,
      "outputs": []
    },
    {
      "cell_type": "code",
      "metadata": {
        "id": "seFxPriPhDgF"
      },
      "source": [
        "def bioactivity_class(df):\n",
        "  '''Divide compounds into potency classes.\n",
        "  '''\n",
        "  class_names = []\n",
        "  for i in df.standard_value:\n",
        "    if i >= 10000:\n",
        "      class_names.append('INACTIVE')\n",
        "    elif i <= 1000:\n",
        "      class_names.append('ACTIVE')\n",
        "    else: class_names.append('intermediate')\n",
        "\n",
        "  df['bioactivity_class'] = class_names\n",
        "\n",
        "  return df"
      ],
      "id": "seFxPriPhDgF",
      "execution_count": null,
      "outputs": []
    },
    {
      "cell_type": "code",
      "metadata": {
        "colab": {
          "base_uri": "https://localhost:8080/"
        },
        "id": "ba7e6042",
        "outputId": "c450a08d-6b64-4c9e-ec31-0a4d89a1a569"
      },
      "source": [
        "subset = ['molecule_chembl_id', 'canonical_smiles', 'standard_value']\n",
        "\n",
        "act_df = df.copy()[subset]\n",
        "l1 = len(act_df)\n",
        "act_df = bioactivity_class(act_df)\n",
        "act_df.info()"
      ],
      "id": "ba7e6042",
      "execution_count": null,
      "outputs": [
        {
          "output_type": "stream",
          "name": "stdout",
          "text": [
            "<class 'pandas.core.frame.DataFrame'>\n",
            "RangeIndex: 1690 entries, 0 to 1689\n",
            "Data columns (total 4 columns):\n",
            " #   Column              Non-Null Count  Dtype  \n",
            "---  ------              --------------  -----  \n",
            " 0   molecule_chembl_id  1690 non-null   object \n",
            " 1   canonical_smiles    1690 non-null   object \n",
            " 2   standard_value      1690 non-null   float64\n",
            " 3   bioactivity_class   1690 non-null   object \n",
            "dtypes: float64(1), object(3)\n",
            "memory usage: 52.9+ KB\n"
          ]
        }
      ]
    },
    {
      "cell_type": "markdown",
      "metadata": {
        "id": "5Gajm3qnoDVA"
      },
      "source": [
        "Calculate Lipinski Descriptors (describe druglikeness). [SMILES](https://en.wikipedia.org/wiki/SMILES_arbitrary_target_specification) is a chemical notation that describes a compounds chemical structure. This functon makes a dataframe with the four parameters described by [Lipinski's RO5](https://en.wikipedia.org/wiki/Lipinski%27s_rule_of_five) and has the same number of rows as *bioactivity_df*."
      ],
      "id": "5Gajm3qnoDVA"
    },
    {
      "cell_type": "code",
      "metadata": {
        "id": "7fec465b"
      },
      "source": [
        "def lipinski(smiles):\n",
        "  '''Using SMILES notation, returns the four parameters\n",
        "  described by Lipinski's RO5 in dataframe.'''\n",
        "\n",
        "  moldata = [Chem.MolFromSmiles(elem) for elem in smiles]\n",
        "  desc = pd.DataFrame(data=np.zeros((len(moldata), 4)),\n",
        "                      columns=['MW', 'LogP', 'NumHDonors', 'NumHAcceptors'])\n",
        "  \n",
        "  for ix, mol in enumerate(moldata):\n",
        "    desc.loc[ix] = [Descriptors.MolWt(mol), Descriptors.MolLogP(mol),\n",
        "                    Lipinski.NumHDonors(mol), Lipinski.NumHAcceptors(mol)]\n",
        "                    \n",
        "  return desc"
      ],
      "id": "7fec465b",
      "execution_count": null,
      "outputs": []
    },
    {
      "cell_type": "markdown",
      "metadata": {
        "id": "vU0DaLYgqCZ-"
      },
      "source": [
        "IC50 has an uneven distribution. Taking the negative log makes the distribution more even.\n"
      ],
      "id": "vU0DaLYgqCZ-"
    },
    {
      "cell_type": "code",
      "metadata": {
        "id": "8640aacc"
      },
      "source": [
        "def pIC50(df):\n",
        "  '''Convert IC50 to pIC50, capping input at 100M,\n",
        "  which would give negative values after negative logarithm.'''\n",
        "  \n",
        "  pIC50 = []\n",
        "  for ic in df.standard_value:\n",
        "    ic = min(ic, 1e8)\n",
        "    molar = ic * 1e-9 #converts nanomolar to molar\n",
        "    pIC50.append(round(-np.log10(molar), 2)) #three significant digits\n",
        "\n",
        "  df['pIC50'] = pIC50\n",
        "  return df"
      ],
      "id": "8640aacc",
      "execution_count": null,
      "outputs": []
    },
    {
      "cell_type": "code",
      "metadata": {
        "colab": {
          "base_uri": "https://localhost:8080/"
        },
        "id": "2fb66b65",
        "outputId": "4b4957c8-3304-4b26-d741-3a0586168c9e"
      },
      "source": [
        "lipinski_df = lipinski(act_df.canonical_smiles)\n",
        "act_df = pd.concat([act_df, lipinski_df], axis=1)\n",
        "act_df = pIC50(act_df)\n",
        "act_df.pIC50.describe()"
      ],
      "id": "2fb66b65",
      "execution_count": null,
      "outputs": [
        {
          "output_type": "execute_result",
          "data": {
            "text/plain": [
              "count    1690.000000\n",
              "mean        6.038266\n",
              "std         1.424383\n",
              "min         1.320000\n",
              "25%         5.000000\n",
              "50%         6.060000\n",
              "75%         7.097500\n",
              "max        11.050000\n",
              "Name: pIC50, dtype: float64"
            ]
          },
          "metadata": {},
          "execution_count": 35
        }
      ]
    },
    {
      "cell_type": "markdown",
      "metadata": {
        "id": "RaigEjX3ibLb"
      },
      "source": [
        "First, we'll drop the intermediate class which are molecules sitting in the gray area between inactive and active. Second, we'll group by molecule, keeping the higher potency/lower IC50 measurement where applicable. Leaving duplicate compounds in dataset may create data leakage."
      ],
      "id": "RaigEjX3ibLb"
    },
    {
      "cell_type": "code",
      "metadata": {
        "colab": {
          "base_uri": "https://localhost:8080/"
        },
        "id": "_xDdMyy5yo-G",
        "outputId": "e8ac2bdb-68ff-467e-bc89-e0e5798904dc"
      },
      "source": [
        "act_df = act_df[act_df.bioactivity_class != 'intermediate']\n",
        "l2 = len(act_df)\n",
        "print((l1-l2), 'rows dropped.')\n",
        "act_df = act_df.groupby('molecule_chembl_id').min()\n",
        "print((l2-len(act_df)), 'rows dropped.')"
      ],
      "id": "_xDdMyy5yo-G",
      "execution_count": null,
      "outputs": [
        {
          "output_type": "stream",
          "name": "stdout",
          "text": [
            "398 rows dropped.\n",
            "192 rows dropped.\n"
          ]
        }
      ]
    },
    {
      "cell_type": "code",
      "metadata": {
        "colab": {
          "base_uri": "https://localhost:8080/",
          "height": 238
        },
        "id": "Q3wF3RziUpdF",
        "outputId": "f750523e-5d94-4bcd-dbb1-077ebdc62e42"
      },
      "source": [
        "act_df.tail()"
      ],
      "id": "Q3wF3RziUpdF",
      "execution_count": null,
      "outputs": [
        {
          "output_type": "execute_result",
          "data": {
            "text/html": [
              "<div>\n",
              "<style scoped>\n",
              "    .dataframe tbody tr th:only-of-type {\n",
              "        vertical-align: middle;\n",
              "    }\n",
              "\n",
              "    .dataframe tbody tr th {\n",
              "        vertical-align: top;\n",
              "    }\n",
              "\n",
              "    .dataframe thead th {\n",
              "        text-align: right;\n",
              "    }\n",
              "</style>\n",
              "<table border=\"1\" class=\"dataframe\">\n",
              "  <thead>\n",
              "    <tr style=\"text-align: right;\">\n",
              "      <th></th>\n",
              "      <th>canonical_smiles</th>\n",
              "      <th>standard_value</th>\n",
              "      <th>bioactivity_class</th>\n",
              "      <th>MW</th>\n",
              "      <th>LogP</th>\n",
              "      <th>NumHDonors</th>\n",
              "      <th>NumHAcceptors</th>\n",
              "      <th>pIC50</th>\n",
              "    </tr>\n",
              "    <tr>\n",
              "      <th>molecule_chembl_id</th>\n",
              "      <th></th>\n",
              "      <th></th>\n",
              "      <th></th>\n",
              "      <th></th>\n",
              "      <th></th>\n",
              "      <th></th>\n",
              "      <th></th>\n",
              "      <th></th>\n",
              "    </tr>\n",
              "  </thead>\n",
              "  <tbody>\n",
              "    <tr>\n",
              "      <th>CHEMBL96406</th>\n",
              "      <td>CC1=NC2CCCc3nc4ccccc4c(c32)N1</td>\n",
              "      <td>100000.0</td>\n",
              "      <td>INACTIVE</td>\n",
              "      <td>237.306</td>\n",
              "      <td>3.4561</td>\n",
              "      <td>1.0</td>\n",
              "      <td>3.0</td>\n",
              "      <td>4.00</td>\n",
              "    </tr>\n",
              "    <tr>\n",
              "      <th>CHEMBL96542</th>\n",
              "      <td>CN1CCN(C2CCCc3nc4ccccc4c(N)c32)CC1</td>\n",
              "      <td>100000.0</td>\n",
              "      <td>INACTIVE</td>\n",
              "      <td>296.418</td>\n",
              "      <td>2.4418</td>\n",
              "      <td>1.0</td>\n",
              "      <td>4.0</td>\n",
              "      <td>4.00</td>\n",
              "    </tr>\n",
              "    <tr>\n",
              "      <th>CHEMBL96588</th>\n",
              "      <td>Nc1c2c(nc3ccccc13)CCCC2NCc1ccccc1</td>\n",
              "      <td>20100.0</td>\n",
              "      <td>INACTIVE</td>\n",
              "      <td>303.409</td>\n",
              "      <td>3.9842</td>\n",
              "      <td>2.0</td>\n",
              "      <td>3.0</td>\n",
              "      <td>4.70</td>\n",
              "    </tr>\n",
              "    <tr>\n",
              "      <th>CHEMBL96643</th>\n",
              "      <td>CCCOC1CCCc2nc3ccccc3c(N)c21</td>\n",
              "      <td>193.0</td>\n",
              "      <td>ACTIVE</td>\n",
              "      <td>256.349</td>\n",
              "      <td>3.6210</td>\n",
              "      <td>1.0</td>\n",
              "      <td>3.0</td>\n",
              "      <td>6.71</td>\n",
              "    </tr>\n",
              "    <tr>\n",
              "      <th>CHEMBL96861</th>\n",
              "      <td>CCCCCC(=O)NC1CCCc2nc3ccccc3c(N)c21</td>\n",
              "      <td>51800.0</td>\n",
              "      <td>INACTIVE</td>\n",
              "      <td>311.429</td>\n",
              "      <td>3.8909</td>\n",
              "      <td>2.0</td>\n",
              "      <td>3.0</td>\n",
              "      <td>4.29</td>\n",
              "    </tr>\n",
              "  </tbody>\n",
              "</table>\n",
              "</div>"
            ],
            "text/plain": [
              "                                      canonical_smiles  ...  pIC50\n",
              "molecule_chembl_id                                      ...       \n",
              "CHEMBL96406              CC1=NC2CCCc3nc4ccccc4c(c32)N1  ...   4.00\n",
              "CHEMBL96542         CN1CCN(C2CCCc3nc4ccccc4c(N)c32)CC1  ...   4.00\n",
              "CHEMBL96588          Nc1c2c(nc3ccccc13)CCCC2NCc1ccccc1  ...   4.70\n",
              "CHEMBL96643                CCCOC1CCCc2nc3ccccc3c(N)c21  ...   6.71\n",
              "CHEMBL96861         CCCCCC(=O)NC1CCCc2nc3ccccc3c(N)c21  ...   4.29\n",
              "\n",
              "[5 rows x 8 columns]"
            ]
          },
          "metadata": {},
          "execution_count": 37
        }
      ]
    },
    {
      "cell_type": "code",
      "metadata": {
        "id": "8440cd5b"
      },
      "source": [
        "act_df.to_csv(PATH+f'{TARGET_ID}_bioactivity_preprocessed.csv', index=True)"
      ],
      "id": "8440cd5b",
      "execution_count": null,
      "outputs": []
    },
    {
      "cell_type": "markdown",
      "metadata": {
        "id": "7660a68a"
      },
      "source": [
        "<a name='Explore'></a>\n",
        "# Explore"
      ],
      "id": "7660a68a"
    },
    {
      "cell_type": "code",
      "metadata": {
        "colab": {
          "base_uri": "https://localhost:8080/",
          "height": 398
        },
        "id": "21f91197",
        "outputId": "c48c2cae-f48e-40ab-bbd3-23900a23bc18"
      },
      "source": [
        "#Frequency plot of bioactivity classes\n",
        "ax = sns.countplot(x='bioactivity_class', data=act_df)\n",
        "#ax.bar_label(ax.containers[0]) #numeric labels for bars?\n",
        "plt.xlabel('')\n",
        "plt.ylabel('')\n",
        "plt.show()"
      ],
      "id": "21f91197",
      "execution_count": null,
      "outputs": [
        {
          "output_type": "display_data",
          "data": {
            "image/png": "[encoded data removed]",
            "text/plain": [
              "<Figure size 432x432 with 1 Axes>"
            ]
          },
          "metadata": {}
        }
      ]
    },
    {
      "cell_type": "markdown",
      "metadata": {
        "id": "kKuTRUKDcJgy"
      },
      "source": [
        "\n",
        "The two bioactivity classes are spanning similar [chemical spaces](https://en.wikipedia.org/wiki/Chemical_space), as shown in the plot below.\n"
      ],
      "id": "kKuTRUKDcJgy"
    },
    {
      "cell_type": "code",
      "metadata": {
        "colab": {
          "base_uri": "https://localhost:8080/",
          "height": 500
        },
        "id": "d9ba0364",
        "outputId": "5e841e4a-1f78-487c-a02a-9be7917b4378"
      },
      "source": [
        "plt.figure(figsize=(14, 7))\n",
        "sns.scatterplot(x='MW', y='LogP', data=act_df, hue='bioactivity_class', size='pIC50', alpha=.7)\n",
        "plt.legend(bbox_to_anchor=(1,1))\n",
        "plt.title('Chemical spaces')\n",
        "plt.show()"
      ],
      "id": "d9ba0364",
      "execution_count": null,
      "outputs": [
        {
          "output_type": "display_data",
          "data": {
            "image/png": "[encoded data removed]",
            "text/plain": [
              "<Figure size 1008x504 with 1 Axes>"
            ]
          },
          "metadata": {}
        }
      ]
    },
    {
      "cell_type": "code",
      "metadata": {
        "id": "e65681c6"
      },
      "source": [
        "def boxplot_mannwhitney(descriptor, df, alpha=.05):\n",
        "  '''Compare and interpret the active and inactive samples\n",
        "  using a boxplot and Mann-Whitney U test.\n",
        "  '''\n",
        "  \n",
        "  sns.boxplot(x='bioactivity_class', y=descriptor, data=df)\n",
        "  plt.xlabel('')\n",
        "  plt.show()\n",
        "\n",
        "  active = df[df.bioactivity_class=='ACTIVE'][descriptor]\n",
        "  inactive = df[df.bioactivity_class=='INACTIVE'][descriptor]\n",
        "  stat, p = scs.mannwhitneyu(active, inactive)\n",
        "  print('Statistic=%.0f, p=%.3f' %(stat, p))\n",
        "\n",
        "  if p > alpha:\n",
        "    print('Same distribution (fail to reject H0)')\n",
        "  else:\n",
        "    print('Different distribution (reject H0)')"
      ],
      "id": "e65681c6",
      "execution_count": null,
      "outputs": []
    },
    {
      "cell_type": "code",
      "metadata": {
        "colab": {
          "base_uri": "https://localhost:8080/",
          "height": 1000
        },
        "id": "f35ef054",
        "outputId": "5a74a5de-89ce-4edf-987c-ba02291f5186"
      },
      "source": [
        "for col in ['pIC50', 'MW', 'LogP', 'NumHDonors', 'NumHAcceptors']:\n",
        "  boxplot_mannwhitney(col, act_df)"
      ],
      "id": "f35ef054",
      "execution_count": null,
      "outputs": [
        {
          "output_type": "display_data",
          "data": {
            "image/png": "[encoded data removed]",
            "text/plain": [
              "<Figure size 432x432 with 1 Axes>"
            ]
          },
          "metadata": {}
        },
        {
          "output_type": "stream",
          "name": "stdout",
          "text": [
            "Statistic=383, p=0.000\n",
            "Different distribution (reject H0)\n"
          ]
        },
        {
          "output_type": "display_data",
          "data": {
            "image/png": "[encoded data removed]",
            "text/plain": [
              "<Figure size 432x432 with 1 Axes>"
            ]
          },
          "metadata": {}
        },
        {
          "output_type": "stream",
          "name": "stdout",
          "text": [
            "Statistic=75356, p=0.000\n",
            "Different distribution (reject H0)\n"
          ]
        },
        {
          "output_type": "display_data",
          "data": {
            "image/png": "[encoded data removed]",
            "text/plain": [
              "<Figure size 432x432 with 1 Axes>"
            ]
          },
          "metadata": {}
        },
        {
          "output_type": "stream",
          "name": "stdout",
          "text": [
            "Statistic=75308, p=0.000\n",
            "Different distribution (reject H0)\n"
          ]
        },
        {
          "output_type": "display_data",
          "data": {
            "image/png": "[encoded data removed]",
            "text/plain": [
              "<Figure size 432x432 with 1 Axes>"
            ]
          },
          "metadata": {}
        },
        {
          "output_type": "stream",
          "name": "stdout",
          "text": [
            "Statistic=128874, p=0.010\n",
            "Different distribution (reject H0)\n"
          ]
        },
        {
          "output_type": "display_data",
          "data": {
            "image/png": "[encoded data removed]",
            "text/plain": [
              "<Figure size 432x432 with 1 Axes>"
            ]
          },
          "metadata": {}
        },
        {
          "output_type": "stream",
          "name": "stdout",
          "text": [
            "Statistic=94710, p=0.000\n",
            "Different distribution (reject H0)\n"
          ]
        }
      ]
    },
    {
      "cell_type": "markdown",
      "metadata": {
        "id": "4355bfd5"
      },
      "source": [
        "pIC50 values were statistically significant, which is expected because we classified active vs. inactive by IC50.\n",
        "\n",
        "Are the Lipinski descriptors statistically significant between active and inactive molecules? Yes.\n"
      ],
      "id": "4355bfd5"
    },
    {
      "cell_type": "markdown",
      "metadata": {
        "id": "WH8zEVPYIZQq"
      },
      "source": [
        "<a name='Model'></a>\n",
        "#Model"
      ],
      "id": "WH8zEVPYIZQq"
    },
    {
      "cell_type": "code",
      "metadata": {
        "colab": {
          "base_uri": "https://localhost:8080/"
        },
        "id": "fIXamfsRIVmn",
        "outputId": "f444fdd8-b348-4709-da61-d7b2f1300dfe"
      },
      "source": [
        "TARGET_ID = 3199 #AChE Rattus norvegicus\n",
        "\n",
        "df = pd.read_csv(PATH+f'{TARGET_ID}_bioactivity_preprocessed.csv', index_col=0)\n",
        "smile_df = df[['canonical_smiles', 'pIC50']].dropna()\n",
        "smile_df = smile_df[:200] #cutoff to limit runtime\n",
        "print(len(smile_df), \"unique compund fingerprints will be computed.\")"
      ],
      "id": "fIXamfsRIVmn",
      "execution_count": null,
      "outputs": [
        {
          "output_type": "stream",
          "name": "stdout",
          "text": [
            "200 unique compund fingerprints will be computed.\n"
          ]
        }
      ]
    },
    {
      "cell_type": "code",
      "metadata": {
        "id": "em_1ogPAIVrI"
      },
      "source": [
        "#LONG RUNTIME ~10 minutes\n",
        "fps = from_smiles(list(smile_df.canonical_smiles),\n",
        "                  fingerprints=True, descriptors=False,\n",
        "                  timeout=7200)"
      ],
      "id": "em_1ogPAIVrI",
      "execution_count": null,
      "outputs": []
    },
    {
      "cell_type": "code",
      "metadata": {
        "id": "Wj3THljsKdTC"
      },
      "source": [
        "fps_df = pd.DataFrame(fps).set_index(smile_df.index)\n",
        "fps_df = pd.concat([smile_df, fps_df], axis=1)\n",
        "fps_df.to_csv(PATH+f'{TARGET_ID}_chem_fingerprints.csv', index=True)"
      ],
      "id": "Wj3THljsKdTC",
      "execution_count": null,
      "outputs": []
    },
    {
      "cell_type": "code",
      "metadata": {
        "colab": {
          "base_uri": "https://localhost:8080/",
          "height": 256
        },
        "id": "zBvlQ2AVKnYj",
        "outputId": "3074a2c8-3258-46c2-cc69-211665c0b655"
      },
      "source": [
        "#start here if loading fingerprints from a file\n",
        "fps_df = pd.read_csv(PATH+f'{TARGET_ID}_chem_fingerprints.csv').iloc[:, 2:].dropna()\n",
        "fps_df.tail()"
      ],
      "id": "zBvlQ2AVKnYj",
      "execution_count": null,
      "outputs": [
        {
          "output_type": "execute_result",
          "data": {
            "text/html": [
              "<div>\n",
              "<style scoped>\n",
              "    .dataframe tbody tr th:only-of-type {\n",
              "        vertical-align: middle;\n",
              "    }\n",
              "\n",
              "    .dataframe tbody tr th {\n",
              "        vertical-align: top;\n",
              "    }\n",
              "\n",
              "    .dataframe thead th {\n",
              "        text-align: right;\n",
              "    }\n",
              "</style>\n",
              "<table border=\"1\" class=\"dataframe\">\n",
              "  <thead>\n",
              "    <tr style=\"text-align: right;\">\n",
              "      <th></th>\n",
              "      <th>pIC50</th>\n",
              "      <th>PubchemFP0</th>\n",
              "      <th>PubchemFP1</th>\n",
              "      <th>PubchemFP2</th>\n",
              "      <th>PubchemFP3</th>\n",
              "      <th>PubchemFP4</th>\n",
              "      <th>PubchemFP5</th>\n",
              "      <th>PubchemFP6</th>\n",
              "      <th>PubchemFP7</th>\n",
              "      <th>PubchemFP8</th>\n",
              "      <th>PubchemFP9</th>\n",
              "      <th>PubchemFP10</th>\n",
              "      <th>PubchemFP11</th>\n",
              "      <th>PubchemFP12</th>\n",
              "      <th>PubchemFP13</th>\n",
              "      <th>PubchemFP14</th>\n",
              "      <th>PubchemFP15</th>\n",
              "      <th>PubchemFP16</th>\n",
              "      <th>PubchemFP17</th>\n",
              "      <th>PubchemFP18</th>\n",
              "      <th>PubchemFP19</th>\n",
              "      <th>PubchemFP20</th>\n",
              "      <th>PubchemFP21</th>\n",
              "      <th>PubchemFP22</th>\n",
              "      <th>PubchemFP23</th>\n",
              "      <th>PubchemFP24</th>\n",
              "      <th>PubchemFP25</th>\n",
              "      <th>PubchemFP26</th>\n",
              "      <th>PubchemFP27</th>\n",
              "      <th>PubchemFP28</th>\n",
              "      <th>PubchemFP29</th>\n",
              "      <th>PubchemFP30</th>\n",
              "      <th>PubchemFP31</th>\n",
              "      <th>PubchemFP32</th>\n",
              "      <th>PubchemFP33</th>\n",
              "      <th>PubchemFP34</th>\n",
              "      <th>PubchemFP35</th>\n",
              "      <th>PubchemFP36</th>\n",
              "      <th>PubchemFP37</th>\n",
              "      <th>PubchemFP38</th>\n",
              "      <th>...</th>\n",
              "      <th>PubchemFP841</th>\n",
              "      <th>PubchemFP842</th>\n",
              "      <th>PubchemFP843</th>\n",
              "      <th>PubchemFP844</th>\n",
              "      <th>PubchemFP845</th>\n",
              "      <th>PubchemFP846</th>\n",
              "      <th>PubchemFP847</th>\n",
              "      <th>PubchemFP848</th>\n",
              "      <th>PubchemFP849</th>\n",
              "      <th>PubchemFP850</th>\n",
              "      <th>PubchemFP851</th>\n",
              "      <th>PubchemFP852</th>\n",
              "      <th>PubchemFP853</th>\n",
              "      <th>PubchemFP854</th>\n",
              "      <th>PubchemFP855</th>\n",
              "      <th>PubchemFP856</th>\n",
              "      <th>PubchemFP857</th>\n",
              "      <th>PubchemFP858</th>\n",
              "      <th>PubchemFP859</th>\n",
              "      <th>PubchemFP860</th>\n",
              "      <th>PubchemFP861</th>\n",
              "      <th>PubchemFP862</th>\n",
              "      <th>PubchemFP863</th>\n",
              "      <th>PubchemFP864</th>\n",
              "      <th>PubchemFP865</th>\n",
              "      <th>PubchemFP866</th>\n",
              "      <th>PubchemFP867</th>\n",
              "      <th>PubchemFP868</th>\n",
              "      <th>PubchemFP869</th>\n",
              "      <th>PubchemFP870</th>\n",
              "      <th>PubchemFP871</th>\n",
              "      <th>PubchemFP872</th>\n",
              "      <th>PubchemFP873</th>\n",
              "      <th>PubchemFP874</th>\n",
              "      <th>PubchemFP875</th>\n",
              "      <th>PubchemFP876</th>\n",
              "      <th>PubchemFP877</th>\n",
              "      <th>PubchemFP878</th>\n",
              "      <th>PubchemFP879</th>\n",
              "      <th>PubchemFP880</th>\n",
              "    </tr>\n",
              "  </thead>\n",
              "  <tbody>\n",
              "    <tr>\n",
              "      <th>195</th>\n",
              "      <td>4.49</td>\n",
              "      <td>1</td>\n",
              "      <td>1</td>\n",
              "      <td>1</td>\n",
              "      <td>0</td>\n",
              "      <td>0</td>\n",
              "      <td>0</td>\n",
              "      <td>0</td>\n",
              "      <td>0</td>\n",
              "      <td>0</td>\n",
              "      <td>1</td>\n",
              "      <td>1</td>\n",
              "      <td>1</td>\n",
              "      <td>1</td>\n",
              "      <td>0</td>\n",
              "      <td>1</td>\n",
              "      <td>0</td>\n",
              "      <td>0</td>\n",
              "      <td>0</td>\n",
              "      <td>0</td>\n",
              "      <td>0</td>\n",
              "      <td>0</td>\n",
              "      <td>0</td>\n",
              "      <td>0</td>\n",
              "      <td>0</td>\n",
              "      <td>0</td>\n",
              "      <td>0</td>\n",
              "      <td>0</td>\n",
              "      <td>0</td>\n",
              "      <td>0</td>\n",
              "      <td>0</td>\n",
              "      <td>0</td>\n",
              "      <td>0</td>\n",
              "      <td>0</td>\n",
              "      <td>0</td>\n",
              "      <td>0</td>\n",
              "      <td>0</td>\n",
              "      <td>0</td>\n",
              "      <td>0</td>\n",
              "      <td>0</td>\n",
              "      <td>...</td>\n",
              "      <td>0</td>\n",
              "      <td>0</td>\n",
              "      <td>0</td>\n",
              "      <td>0</td>\n",
              "      <td>0</td>\n",
              "      <td>0</td>\n",
              "      <td>0</td>\n",
              "      <td>0</td>\n",
              "      <td>0</td>\n",
              "      <td>0</td>\n",
              "      <td>0</td>\n",
              "      <td>0</td>\n",
              "      <td>0</td>\n",
              "      <td>0</td>\n",
              "      <td>0</td>\n",
              "      <td>0</td>\n",
              "      <td>0</td>\n",
              "      <td>0</td>\n",
              "      <td>0</td>\n",
              "      <td>0</td>\n",
              "      <td>0</td>\n",
              "      <td>0</td>\n",
              "      <td>0</td>\n",
              "      <td>0</td>\n",
              "      <td>0</td>\n",
              "      <td>0</td>\n",
              "      <td>0</td>\n",
              "      <td>0</td>\n",
              "      <td>0</td>\n",
              "      <td>0</td>\n",
              "      <td>0</td>\n",
              "      <td>0</td>\n",
              "      <td>0</td>\n",
              "      <td>0</td>\n",
              "      <td>0</td>\n",
              "      <td>0</td>\n",
              "      <td>0</td>\n",
              "      <td>0</td>\n",
              "      <td>0</td>\n",
              "      <td>0</td>\n",
              "    </tr>\n",
              "    <tr>\n",
              "      <th>196</th>\n",
              "      <td>4.21</td>\n",
              "      <td>1</td>\n",
              "      <td>1</td>\n",
              "      <td>0</td>\n",
              "      <td>0</td>\n",
              "      <td>0</td>\n",
              "      <td>0</td>\n",
              "      <td>0</td>\n",
              "      <td>0</td>\n",
              "      <td>0</td>\n",
              "      <td>1</td>\n",
              "      <td>1</td>\n",
              "      <td>1</td>\n",
              "      <td>0</td>\n",
              "      <td>0</td>\n",
              "      <td>1</td>\n",
              "      <td>1</td>\n",
              "      <td>0</td>\n",
              "      <td>0</td>\n",
              "      <td>1</td>\n",
              "      <td>1</td>\n",
              "      <td>0</td>\n",
              "      <td>0</td>\n",
              "      <td>0</td>\n",
              "      <td>0</td>\n",
              "      <td>0</td>\n",
              "      <td>0</td>\n",
              "      <td>0</td>\n",
              "      <td>0</td>\n",
              "      <td>0</td>\n",
              "      <td>0</td>\n",
              "      <td>0</td>\n",
              "      <td>0</td>\n",
              "      <td>0</td>\n",
              "      <td>0</td>\n",
              "      <td>0</td>\n",
              "      <td>0</td>\n",
              "      <td>0</td>\n",
              "      <td>0</td>\n",
              "      <td>0</td>\n",
              "      <td>...</td>\n",
              "      <td>0</td>\n",
              "      <td>0</td>\n",
              "      <td>0</td>\n",
              "      <td>0</td>\n",
              "      <td>0</td>\n",
              "      <td>0</td>\n",
              "      <td>0</td>\n",
              "      <td>0</td>\n",
              "      <td>0</td>\n",
              "      <td>0</td>\n",
              "      <td>0</td>\n",
              "      <td>0</td>\n",
              "      <td>0</td>\n",
              "      <td>0</td>\n",
              "      <td>0</td>\n",
              "      <td>0</td>\n",
              "      <td>0</td>\n",
              "      <td>0</td>\n",
              "      <td>0</td>\n",
              "      <td>0</td>\n",
              "      <td>0</td>\n",
              "      <td>0</td>\n",
              "      <td>0</td>\n",
              "      <td>0</td>\n",
              "      <td>0</td>\n",
              "      <td>0</td>\n",
              "      <td>0</td>\n",
              "      <td>0</td>\n",
              "      <td>0</td>\n",
              "      <td>0</td>\n",
              "      <td>0</td>\n",
              "      <td>0</td>\n",
              "      <td>0</td>\n",
              "      <td>0</td>\n",
              "      <td>0</td>\n",
              "      <td>0</td>\n",
              "      <td>0</td>\n",
              "      <td>0</td>\n",
              "      <td>0</td>\n",
              "      <td>0</td>\n",
              "    </tr>\n",
              "    <tr>\n",
              "      <th>197</th>\n",
              "      <td>2.86</td>\n",
              "      <td>1</td>\n",
              "      <td>1</td>\n",
              "      <td>1</td>\n",
              "      <td>0</td>\n",
              "      <td>0</td>\n",
              "      <td>0</td>\n",
              "      <td>0</td>\n",
              "      <td>0</td>\n",
              "      <td>0</td>\n",
              "      <td>1</td>\n",
              "      <td>1</td>\n",
              "      <td>1</td>\n",
              "      <td>0</td>\n",
              "      <td>0</td>\n",
              "      <td>1</td>\n",
              "      <td>0</td>\n",
              "      <td>0</td>\n",
              "      <td>0</td>\n",
              "      <td>0</td>\n",
              "      <td>0</td>\n",
              "      <td>0</td>\n",
              "      <td>0</td>\n",
              "      <td>0</td>\n",
              "      <td>0</td>\n",
              "      <td>0</td>\n",
              "      <td>0</td>\n",
              "      <td>0</td>\n",
              "      <td>0</td>\n",
              "      <td>0</td>\n",
              "      <td>0</td>\n",
              "      <td>0</td>\n",
              "      <td>0</td>\n",
              "      <td>0</td>\n",
              "      <td>0</td>\n",
              "      <td>0</td>\n",
              "      <td>0</td>\n",
              "      <td>0</td>\n",
              "      <td>1</td>\n",
              "      <td>0</td>\n",
              "      <td>...</td>\n",
              "      <td>0</td>\n",
              "      <td>0</td>\n",
              "      <td>0</td>\n",
              "      <td>0</td>\n",
              "      <td>0</td>\n",
              "      <td>0</td>\n",
              "      <td>0</td>\n",
              "      <td>0</td>\n",
              "      <td>0</td>\n",
              "      <td>0</td>\n",
              "      <td>0</td>\n",
              "      <td>0</td>\n",
              "      <td>0</td>\n",
              "      <td>0</td>\n",
              "      <td>0</td>\n",
              "      <td>0</td>\n",
              "      <td>0</td>\n",
              "      <td>0</td>\n",
              "      <td>0</td>\n",
              "      <td>0</td>\n",
              "      <td>0</td>\n",
              "      <td>0</td>\n",
              "      <td>0</td>\n",
              "      <td>0</td>\n",
              "      <td>0</td>\n",
              "      <td>0</td>\n",
              "      <td>0</td>\n",
              "      <td>0</td>\n",
              "      <td>0</td>\n",
              "      <td>0</td>\n",
              "      <td>0</td>\n",
              "      <td>0</td>\n",
              "      <td>0</td>\n",
              "      <td>0</td>\n",
              "      <td>0</td>\n",
              "      <td>0</td>\n",
              "      <td>0</td>\n",
              "      <td>0</td>\n",
              "      <td>0</td>\n",
              "      <td>0</td>\n",
              "    </tr>\n",
              "    <tr>\n",
              "      <th>198</th>\n",
              "      <td>3.59</td>\n",
              "      <td>1</td>\n",
              "      <td>1</td>\n",
              "      <td>1</td>\n",
              "      <td>0</td>\n",
              "      <td>0</td>\n",
              "      <td>0</td>\n",
              "      <td>0</td>\n",
              "      <td>0</td>\n",
              "      <td>0</td>\n",
              "      <td>1</td>\n",
              "      <td>1</td>\n",
              "      <td>1</td>\n",
              "      <td>1</td>\n",
              "      <td>0</td>\n",
              "      <td>1</td>\n",
              "      <td>0</td>\n",
              "      <td>0</td>\n",
              "      <td>0</td>\n",
              "      <td>1</td>\n",
              "      <td>1</td>\n",
              "      <td>0</td>\n",
              "      <td>0</td>\n",
              "      <td>0</td>\n",
              "      <td>0</td>\n",
              "      <td>0</td>\n",
              "      <td>0</td>\n",
              "      <td>0</td>\n",
              "      <td>0</td>\n",
              "      <td>0</td>\n",
              "      <td>0</td>\n",
              "      <td>0</td>\n",
              "      <td>0</td>\n",
              "      <td>0</td>\n",
              "      <td>0</td>\n",
              "      <td>0</td>\n",
              "      <td>0</td>\n",
              "      <td>0</td>\n",
              "      <td>1</td>\n",
              "      <td>0</td>\n",
              "      <td>...</td>\n",
              "      <td>0</td>\n",
              "      <td>0</td>\n",
              "      <td>0</td>\n",
              "      <td>0</td>\n",
              "      <td>0</td>\n",
              "      <td>0</td>\n",
              "      <td>0</td>\n",
              "      <td>0</td>\n",
              "      <td>0</td>\n",
              "      <td>0</td>\n",
              "      <td>0</td>\n",
              "      <td>0</td>\n",
              "      <td>0</td>\n",
              "      <td>0</td>\n",
              "      <td>0</td>\n",
              "      <td>0</td>\n",
              "      <td>0</td>\n",
              "      <td>0</td>\n",
              "      <td>0</td>\n",
              "      <td>0</td>\n",
              "      <td>0</td>\n",
              "      <td>0</td>\n",
              "      <td>0</td>\n",
              "      <td>0</td>\n",
              "      <td>0</td>\n",
              "      <td>0</td>\n",
              "      <td>0</td>\n",
              "      <td>0</td>\n",
              "      <td>0</td>\n",
              "      <td>0</td>\n",
              "      <td>0</td>\n",
              "      <td>0</td>\n",
              "      <td>0</td>\n",
              "      <td>0</td>\n",
              "      <td>0</td>\n",
              "      <td>0</td>\n",
              "      <td>0</td>\n",
              "      <td>0</td>\n",
              "      <td>0</td>\n",
              "      <td>0</td>\n",
              "    </tr>\n",
              "    <tr>\n",
              "      <th>199</th>\n",
              "      <td>3.32</td>\n",
              "      <td>1</td>\n",
              "      <td>1</td>\n",
              "      <td>1</td>\n",
              "      <td>0</td>\n",
              "      <td>0</td>\n",
              "      <td>0</td>\n",
              "      <td>0</td>\n",
              "      <td>0</td>\n",
              "      <td>0</td>\n",
              "      <td>1</td>\n",
              "      <td>1</td>\n",
              "      <td>1</td>\n",
              "      <td>1</td>\n",
              "      <td>0</td>\n",
              "      <td>1</td>\n",
              "      <td>0</td>\n",
              "      <td>0</td>\n",
              "      <td>0</td>\n",
              "      <td>0</td>\n",
              "      <td>0</td>\n",
              "      <td>0</td>\n",
              "      <td>0</td>\n",
              "      <td>0</td>\n",
              "      <td>0</td>\n",
              "      <td>0</td>\n",
              "      <td>0</td>\n",
              "      <td>0</td>\n",
              "      <td>0</td>\n",
              "      <td>0</td>\n",
              "      <td>0</td>\n",
              "      <td>0</td>\n",
              "      <td>0</td>\n",
              "      <td>0</td>\n",
              "      <td>0</td>\n",
              "      <td>0</td>\n",
              "      <td>0</td>\n",
              "      <td>0</td>\n",
              "      <td>1</td>\n",
              "      <td>0</td>\n",
              "      <td>...</td>\n",
              "      <td>0</td>\n",
              "      <td>0</td>\n",
              "      <td>0</td>\n",
              "      <td>0</td>\n",
              "      <td>0</td>\n",
              "      <td>0</td>\n",
              "      <td>0</td>\n",
              "      <td>0</td>\n",
              "      <td>0</td>\n",
              "      <td>0</td>\n",
              "      <td>0</td>\n",
              "      <td>0</td>\n",
              "      <td>0</td>\n",
              "      <td>0</td>\n",
              "      <td>0</td>\n",
              "      <td>0</td>\n",
              "      <td>0</td>\n",
              "      <td>0</td>\n",
              "      <td>0</td>\n",
              "      <td>0</td>\n",
              "      <td>0</td>\n",
              "      <td>0</td>\n",
              "      <td>0</td>\n",
              "      <td>0</td>\n",
              "      <td>0</td>\n",
              "      <td>0</td>\n",
              "      <td>0</td>\n",
              "      <td>0</td>\n",
              "      <td>0</td>\n",
              "      <td>0</td>\n",
              "      <td>0</td>\n",
              "      <td>0</td>\n",
              "      <td>0</td>\n",
              "      <td>0</td>\n",
              "      <td>0</td>\n",
              "      <td>0</td>\n",
              "      <td>0</td>\n",
              "      <td>0</td>\n",
              "      <td>0</td>\n",
              "      <td>0</td>\n",
              "    </tr>\n",
              "  </tbody>\n",
              "</table>\n",
              "<p>5 rows × 882 columns</p>\n",
              "</div>"
            ],
            "text/plain": [
              "     pIC50  PubchemFP0  PubchemFP1  ...  PubchemFP878  PubchemFP879  PubchemFP880\n",
              "195   4.49           1           1  ...             0             0             0\n",
              "196   4.21           1           1  ...             0             0             0\n",
              "197   2.86           1           1  ...             0             0             0\n",
              "198   3.59           1           1  ...             0             0             0\n",
              "199   3.32           1           1  ...             0             0             0\n",
              "\n",
              "[5 rows x 882 columns]"
            ]
          },
          "metadata": {},
          "execution_count": 92
        }
      ]
    },
    {
      "cell_type": "code",
      "metadata": {
        "id": "gSruGbrYKpzx"
      },
      "source": [
        "y = fps_df.pop('pIC50') #response variable"
      ],
      "id": "gSruGbrYKpzx",
      "execution_count": null,
      "outputs": []
    },
    {
      "cell_type": "code",
      "metadata": {
        "id": "Q8KecaTG0wyR"
      },
      "source": [
        "selector = VarianceThreshold(.1)\n",
        "X = selector.fit_transform(fps_df)"
      ],
      "id": "Q8KecaTG0wyR",
      "execution_count": null,
      "outputs": []
    },
    {
      "cell_type": "code",
      "metadata": {
        "colab": {
          "base_uri": "https://localhost:8080/"
        },
        "id": "zjOZlyVRKr6g",
        "outputId": "eea22d64-09c4-4a59-9d00-eeb7e19d46ec"
      },
      "source": [
        "X_train, X_test, y_train, y_test = train_test_split(X, y, test_size=.2,\n",
        "                                                    random_state=36)\n",
        "X_train.shape, y_train.shape, X_test.shape, y_test.shape"
      ],
      "id": "zjOZlyVRKr6g",
      "execution_count": null,
      "outputs": [
        {
          "output_type": "execute_result",
          "data": {
            "text/plain": [
              "((160, 181), (160,), (40, 181), (40,))"
            ]
          },
          "metadata": {},
          "execution_count": 95
        }
      ]
    },
    {
      "cell_type": "markdown",
      "metadata": {
        "id": "t0dnPgPRsg1C"
      },
      "source": [
        "We've already dropped features with low variance (under 0.1) thereby reducing the fingerprint from 881 to 100-200 features. Now try to maximize the cross-validation score in order to find the best hyperparameters.\n",
        "\n",
        " From the scikit-learn docs: \n",
        "\n",
        "`A random forest regressor a meta estimator that fits a number of classifying decision trees on various sub-samples of the dataset and uses averaging to improve the predictive accuracy and control over-fitting.`\n"
      ],
      "id": "t0dnPgPRsg1C"
    },
    {
      "cell_type": "code",
      "metadata": {
        "colab": {
          "base_uri": "https://localhost:8080/"
        },
        "id": "cA2IsQ_VswK5",
        "outputId": "8f9b0240-3af6-4df7-eeeb-0351d24d349f"
      },
      "source": [
        "rfr = RandomForestRegressor(n_estimators=1500,\n",
        "                            ccp_alpha=.01,\n",
        "                            random_state=36)\n",
        "\n",
        "cv_scores = cross_val_score(rfr, X_train, y_train, cv=5)\n",
        "print(\"Scores:\", cv_scores)\n",
        "print(\"Maximize the average:\", round(cv_scores.mean(),3))"
      ],
      "id": "cA2IsQ_VswK5",
      "execution_count": null,
      "outputs": [
        {
          "output_type": "stream",
          "name": "stdout",
          "text": [
            "Scores: [0.53549477 0.66616897 0.62903083 0.77068377 0.80320623]\n",
            "Maximize the average: 0.681\n"
          ]
        }
      ]
    },
    {
      "cell_type": "code",
      "metadata": {
        "colab": {
          "base_uri": "https://localhost:8080/"
        },
        "id": "gI4DhDuZwtSr",
        "outputId": "da3d79b5-8910-4dd6-cb32-02d30c05ca80"
      },
      "source": [
        "#Baseline\n",
        "median = y_train.median()\n",
        "dr = DummyRegressor(strategy='median').fit(X_train, y_train)\n",
        "#Evaluation\n",
        "print(\"Always predict\", median, \"\\nR^2:\", round(dr.score(X_test, y_test),3))"
      ],
      "id": "gI4DhDuZwtSr",
      "execution_count": null,
      "outputs": [
        {
          "output_type": "stream",
          "name": "stdout",
          "text": [
            "Always predict 6.575 \n",
            "R^2: -0.22\n"
          ]
        }
      ]
    },
    {
      "cell_type": "code",
      "metadata": {
        "colab": {
          "base_uri": "https://localhost:8080/"
        },
        "id": "8GJnMSj6Ktz-",
        "outputId": "37eafa28-a020-4fc3-fb17-042f7f7d3caa"
      },
      "source": [
        "#Best model evaluation\n",
        "rfr.fit(X_train, y_train)\n",
        "print(\"Best model R^2:\", round(rfr.score(X_test, y_test),3))"
      ],
      "id": "8GJnMSj6Ktz-",
      "execution_count": null,
      "outputs": [
        {
          "output_type": "stream",
          "name": "stdout",
          "text": [
            "Best model R^2: 0.734\n"
          ]
        }
      ]
    },
    {
      "cell_type": "code",
      "metadata": {
        "id": "77v8oB1a5OU5"
      },
      "source": [
        "rf_preds = rfr.predict(X_test)"
      ],
      "id": "77v8oB1a5OU5",
      "execution_count": null,
      "outputs": []
    },
    {
      "cell_type": "code",
      "metadata": {
        "colab": {
          "base_uri": "https://localhost:8080/",
          "height": 445
        },
        "id": "FKhF1VcFK34X",
        "outputId": "b2ef7750-abaa-402a-8959-b7bc4251f181"
      },
      "source": [
        "ax = sns.regplot(x=y_test, y=rf_preds, scatter_kws={'alpha':.4})\n",
        "ax.axvline(y_train.median(), color='gray', alpha=.5)\n",
        "ax.text(median+.1, 3, 'baseline \\n(median)', color='gray')\n",
        "ax.set_xlabel('Experimental $pIC_{50}$')\n",
        "ax.set_ylabel('Predicted $pIC_{50}$')\n",
        "ax.set_title('Residual plot')\n",
        "pIC50_range = (y_test.min()-.2, y_test.max()+.2)\n",
        "ax.set_xlim(pIC50_range)\n",
        "ax.set_ylim(pIC50_range)\n",
        "plt.show()"
      ],
      "id": "FKhF1VcFK34X",
      "execution_count": null,
      "outputs": [
        {
          "output_type": "display_data",
          "data": {
            "image/png": "[encoded data removed]",
            "text/plain": [
              "<Figure size 432x432 with 1 Axes>"
            ]
          },
          "metadata": {}
        }
      ]
    },
    {
      "cell_type": "markdown",
      "metadata": {
        "id": "fqKkzq4rAnmm"
      },
      "source": [
        "Saving model for data dashboard app."
      ],
      "id": "fqKkzq4rAnmm"
    },
    {
      "cell_type": "code",
      "metadata": {
        "id": "838hOt7-kJGU"
      },
      "source": [
        "pickle.dump(rfr, open(PATH+'ache_model.pkl', 'wb'))"
      ],
      "id": "838hOt7-kJGU",
      "execution_count": null,
      "outputs": []
    }
  ]
}