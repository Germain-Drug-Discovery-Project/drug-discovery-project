{
 "cells": [
  {
   "cell_type": "markdown",
   "id": "wAQccHGpLEJj",
   "metadata": {
    "id": "wAQccHGpLEJj"
   },
   "source": [
    "# Drug Discovery using ChEMBL\n",
    "\n",
    "ChEMBL is a curated chemical database of *bioactive* molecules with *druglike* properties.\n",
    "\n",
    "**bioactive**: has an effect on a living organism, tissue or cell\n",
    "\n",
    "**druglikeness**: a qualitative factor used in drug design; how \"druglike\" a substance is with respect to factors estimated from the molecular structure"
   ]
  },
  {
   "cell_type": "markdown",
   "id": "_LvHrXyXy0aZ",
   "metadata": {
    "id": "_LvHrXyXy0aZ"
   },
   "source": [
    "#### Table of contents\n",
    "\n",
    "1.   [Research](#Research)\n",
    "2.   [Acquire & prepare molecular data](#Acquire)\n",
    ".   [Modeling the chemical fingerprints](#Model)\n",
    "\n"
   ]
  },
  {
   "cell_type": "code",
   "execution_count": 1,
   "id": "e7507962-7054-4a3b-9c35-fa4c9eba65f2",
   "metadata": {
    "tags": []
   },
   "outputs": [
    {
     "name": "stderr",
     "output_type": "stream",
     "text": [
      "RDKit WARNING: [12:39:17] Enabling RDKit 2019.09.3 jupyter extensions\n"
     ]
    },
    {
     "ename": "IndentationError",
     "evalue": "unindent does not match any outer indentation level (model_m.py, line 77)",
     "output_type": "error",
     "traceback": [
      "Traceback \u001b[0;36m(most recent call last)\u001b[0m:\n",
      "  File \u001b[1;32m\"/opt/homebrew/anaconda3/lib/python3.8/site-packages/IPython/core/interactiveshell.py\"\u001b[0m, line \u001b[1;32m3437\u001b[0m, in \u001b[1;35mrun_code\u001b[0m\n    exec(code_obj, self.user_global_ns, self.user_ns)\n",
      "\u001b[0;36m  File \u001b[0;32m\"<ipython-input-1-4527704d7ad5>\"\u001b[0;36m, line \u001b[0;32m9\u001b[0;36m, in \u001b[0;35m<module>\u001b[0;36m\u001b[0m\n\u001b[0;31m    from model_m import *\u001b[0m\n",
      "\u001b[0;36m  File \u001b[0;32m\"/Users/brandon/codeup-data-science/drug-discovery-project/model_m.py\"\u001b[0;36m, line \u001b[0;32m77\u001b[0m\n\u001b[0;31m    try: # checking if label exists, if not raise KeyError, didnt specify a lang or top_langs\u001b[0m\n\u001b[0m                                                                                             ^\u001b[0m\n\u001b[0;31mIndentationError\u001b[0m\u001b[0;31m:\u001b[0m unindent does not match any outer indentation level\n"
     ]
    }
   ],
   "source": [
    "import pandas as pd\n",
    "import numpy as np\n",
    "from chembl_webresource_client.new_client import new_client\n",
    "from rdkit import Chem\n",
    "from source.prepare import preprocess_bioactivity_data\n",
    "\n",
    "%load_ext autoreload\n",
    "%autoreload 2\n",
    "from model_m import *"
   ]
  },
  {
   "cell_type": "markdown",
   "id": "3a95dec5-f8d7-4b38-a6a9-b8da1b312c1b",
   "metadata": {},
   "source": [
    "<a id='Research'></a>\n",
    "## Preliminary research\n"
   ]
  },
  {
   "cell_type": "markdown",
   "id": "32a036b3-54c4-47a0-8a22-07e50e48d98f",
   "metadata": {},
   "source": [
    "In October, 2021, [*Nature* reported](https://www.nature.com/articles/d41586-021-02755-5#ref-CR2), `More than 130 years after the naming of the Plasmodium parasites behind malaria, the world now has its first approved vaccine against them ... Compared with other childhood vaccinations, RTS,S has only modest efficacy, preventing about 30% of severe malaria cases after a series of four injections in children under the age of five. Nevertheless, one modelling study suggests that it could prevent the deaths of 23,000 children a year ... [malaria] killed 411,000 people in 2018.`\n",
    "\n",
    "According to the [CDC website](https://www.cdc.gov/malaria/about/biology/index.html#tabs-1-6), `Four species of Plasmodium have long been recognized to infect humans in nature. In addition there is one species that naturally infects macaques which has recently been recognized to be a cause of zoonotic malaria in humans ... P. knowlesi is found throughout Southeast Asia as a natural pathogen of long-tailed and pig-tailed macaques. It has a 24-hour replication cycle and so can rapidly progress from an uncomplicated to a severe infection; fatal cases have been reported.`\n",
    "\n",
    "![](https://www.cdc.gov/malaria/images/microscopy/about/falciparum.jpg)\n",
    "\n",
    "(P. falciparum, the deadliest species, targeted by new vaccine)\n",
    "\n",
    "![](https://www.cdc.gov/malaria/images/microscopy/about/knowlesi.jpg)\n",
    "\n",
    "(P. knowlesi, newly found to cause zoonotic malaria in humans infected by primates)\n",
    "\n",
    "Is [Plasmodium knowlesi](https://www.ebi.ac.uk/chembl/target_report_card/CHEMBL613011/) in the ChEMBL database? If so, we can use it to retrieve the microorganism's assays, which are chemical tests made to estimate the **potency** of sample compounds on the organism. We can check using the ChEMBL group's official Python client library... "
   ]
  },
  {
   "cell_type": "code",
   "execution_count": null,
   "id": "06d92c58-4a63-49f1-9bc7-4f27b9cb7879",
   "metadata": {
    "tags": []
   },
   "outputs": [],
   "source": [
    "drug_target = 'Plasmodium knowlesi'\n",
    "#OR skip this step if you already know the molecule ID\n",
    "target_dicts = []\n",
    "res = new_client.target.search(drug_target)\n",
    "for r in res:\n",
    "    target_dicts.append({'organism': r['organism'],\n",
    "                         'pref_name': r['pref_name'],\n",
    "                         'target_chembl_id': r['target_chembl_id']})\n",
    "#P. knowlesi is the top search result, other species listed below\n",
    "target_dicts[:5]"
   ]
  },
  {
   "cell_type": "markdown",
   "id": "bdwSYSyMjzt2",
   "metadata": {
    "id": "bdwSYSyMjzt2"
   },
   "source": [
    "<a id='Acquire'></a>\n",
    "### Acquire & prepare molecular data"
   ]
  },
  {
   "cell_type": "markdown",
   "id": "d36653b4-8689-4803-9b12-40ab3f943b8d",
   "metadata": {},
   "source": [
    "This cell will create **two csv files** based on the ChEMBL ID:\n",
    "\n",
    "* preprocessed data with SMILES notation and added columns for Lapinski descriptors (druglike properties), $pIC_{50}$ values (potency, the dependent variable), and a binary class variable ('ACTIVE', 'INACTIVE') indicating whether or not each molecule is reactive with the target\n",
    "\n",
    "* the chemical fingerprint, 881-digit binary representation of the molecular structure based on atoms and bonds, for each molecule in the dataset that is used for training the machine learning algorithm to identify promising molecules\n",
    "\n",
    "Dependencies include the ChEMBL Webresource Client, RDKit, and PaDELPy"
   ]
  },
  {
   "cell_type": "code",
   "execution_count": null,
   "id": "c2519c91-448d-490a-a081-1d3f6542b9d3",
   "metadata": {},
   "outputs": [],
   "source": [
    "#If you know the molecule ID, set it here and uncomment below.\n",
    "#target_id = 'CHEMBL613011'\n",
    "#Or if you want to use the search results, run this cell as is.\n",
    "target_id = target_dicts[0]['target_chembl_id']"
   ]
  },
  {
   "cell_type": "code",
   "execution_count": null,
   "id": "c9290af4-0560-4608-a2fd-627ee43af79f",
   "metadata": {},
   "outputs": [],
   "source": [
    "preprocess_bioactivity_data(target_id, tests=False, fingerprints=True)"
   ]
  },
  {
   "cell_type": "code",
   "execution_count": null,
   "id": "c6ff0841-17fe-4435-ba2a-e58cbc7e1dd0",
   "metadata": {},
   "outputs": [],
   "source": [
    "bioactivity_df = pd.read_csv(f'{target_id}_bioactivity_preprocessed.csv')\n",
    "bioactivity_df"
   ]
  },
  {
   "cell_type": "code",
   "execution_count": null,
   "id": "93e02cb5-efa0-4c95-a8d1-b64d5ff57070",
   "metadata": {},
   "outputs": [],
   "source": [
    "fingerprint_df = pd.read_csv(f'{target_id}_pubchem_fp.csv')\n",
    "fingerprint_df"
   ]
  },
  {
   "cell_type": "markdown",
   "id": "60c02cbd-4d55-42d0-94b3-66639c8b4307",
   "metadata": {},
   "source": [
    "### An example molecule from the dataset"
   ]
  },
  {
   "cell_type": "code",
   "execution_count": null,
   "id": "8cc2fdab-fca8-4c29-bbb3-ae3bfd797c24",
   "metadata": {
    "tags": []
   },
   "outputs": [],
   "source": [
    "mol = bioactivity_df.molecule_chembl_id[3]\n",
    "SMILES = bioactivity_df.canonical_smiles[bioactivity_df.molecule_chembl_id==mol].values[0]\n",
    "fingerprint = np.array(fingerprint_df[fingerprint_df.Name==mol])[0][1:]\n",
    "print(f'Three representations of molecule {mol}:\\n')\n",
    "print('1. SMILES notation\\n\\n', SMILES)\n",
    "print('\\n2. Chemical fingerprint\\n\\n', fingerprint)\n",
    "print('\\n3. Drawing\\n')\n",
    "Chem.MolFromSmiles(SMILES) "
   ]
  },
  {
   "cell_type": "markdown",
   "id": "f0010a0e-01f7-40cc-8d31-a6384f1f87ad",
   "metadata": {},
   "source": [
    "<a id='Explore'></a>\n",
    "## Explore molecular descriptors"
   ]
  },
  {
   "cell_type": "code",
   "execution_count": null,
   "id": "2018034b-c752-4271-b821-37be75099879",
   "metadata": {},
   "outputs": [],
   "source": [
    "import matplotlib.pyplot as plt\n",
    "import seaborn as sns\n",
    "plt.style.use('fivethirtyeight')"
   ]
  },
  {
   "cell_type": "code",
   "execution_count": null,
   "id": "94e6c6c4-93a5-4fc7-8795-6c4281928b6f",
   "metadata": {
    "tags": []
   },
   "outputs": [],
   "source": [
    "plt.figure(figsize=(8,4))\n",
    "sns.scatterplot(x='MW', y='LogP', data=bioactivity_df,\n",
    "                hue='bioactivity_class', size='pIC50',\n",
    "                palette=\"Set2\")\n",
    "plt.legend(bbox_to_anchor=(1.5,1))\n",
    "plt.title('chemical spaces')\n",
    "plt.show()"
   ]
  },
  {
   "cell_type": "code",
   "execution_count": null,
   "id": "27c3aa96-e044-4aff-8ba8-5d7ba453df4d",
   "metadata": {},
   "outputs": [],
   "source": [
    "descriptors = ['pIC50', 'MW', 'LogP', 'NumHDonors', 'NumHAcceptors']\n",
    "for desc in descriptors:\n",
    "    plt.figsize = (10,1)\n",
    "    ax = sns.boxplot(x=desc, y=\"bioactivity_class\", data=bioactivity_df, palette=\"Set2\")\n",
    "    plt.ylabel('')\n",
    "    plt.show()"
   ]
  },
  {
   "cell_type": "markdown",
   "id": "WH8zEVPYIZQq",
   "metadata": {
    "id": "WH8zEVPYIZQq"
   },
   "source": [
    "<a id='Model'></a>\n",
    "## Modeling the chemical fingerprints"
   ]
  },
  {
   "cell_type": "markdown",
   "id": "6486a79e-3cf0-4693-9618-9a485865070f",
   "metadata": {},
   "source": [
    "In this part, we use machine learning to determine the charachteristics of molecules with a high chance of being viable drug candidates.\n",
    "\n",
    "A note on modeling: $R^2$ is the percent of the variance in [potency](https://en.wikipedia.org/wiki/Potency_(pharmacology)) (as measured by $pIC_{50}$) is explained by the chemical fingerprint of the molecule."
   ]
  },
  {
   "cell_type": "code",
   "execution_count": null,
   "id": "82fe2c3c-0d49-4631-8856-3ed4d57dc615",
   "metadata": {},
   "outputs": [],
   "source": [
    "from sklearn.model_selection import train_test_split\n",
    "from sklearn.ensemble import RandomForestRegressor\n",
    "from sklearn.feature_selection import VarianceThreshold\n",
    "from sklearn.dummy import DummyRegressor\n",
    "from sklearn.model_selection import cross_val_score"
   ]
  },
  {
   "cell_type": "code",
   "execution_count": null,
   "id": "3f9b824a-3bbe-49dc-9ce8-2eea7316719d",
   "metadata": {},
   "outputs": [],
   "source": [
    "#important step to make sure dependent variable matches with molecule\n",
    "modeling_df = fingerprint_df.merge(bioactivity_df, right_on='molecule_chembl_id', left_on='Name')\n",
    "modeling_df"
   ]
  },
  {
   "cell_type": "code",
   "execution_count": null,
   "id": "gSruGbrYKpzx",
   "metadata": {
    "id": "gSruGbrYKpzx"
   },
   "outputs": [],
   "source": [
    "X = modeling_df.iloc[:,1:-9] #fingerprint only\n",
    "y = modeling_df['pIC50'] #response variable\n",
    "y.describe()"
   ]
  },
  {
   "cell_type": "code",
   "execution_count": null,
   "id": "Q8KecaTG0wyR",
   "metadata": {
    "id": "Q8KecaTG0wyR"
   },
   "outputs": [],
   "source": [
    "selector = VarianceThreshold(.1)\n",
    "X = selector.fit_transform(X)"
   ]
  },
  {
   "cell_type": "code",
   "execution_count": null,
   "id": "zjOZlyVRKr6g",
   "metadata": {
    "colab": {
     "base_uri": "https://localhost:8080/"
    },
    "id": "zjOZlyVRKr6g",
    "outputId": "eea22d64-09c4-4a59-9d00-eeb7e19d46ec"
   },
   "outputs": [],
   "source": [
    "X_train, X_test, y_train, y_test = train_test_split(X, y, test_size=.2, random_state=36)\n",
    "X_train.shape, y_train.shape, X_test.shape, y_test.shape"
   ]
  },
  {
   "cell_type": "markdown",
   "id": "t0dnPgPRsg1C",
   "metadata": {
    "id": "t0dnPgPRsg1C"
   },
   "source": [
    "We've already dropped features with low variance (under 0.1) thereby reducing the fingerprint from 881 to 100-200 features. Now try to maximize the cross-validation score.\n"
   ]
  },
  {
   "cell_type": "code",
   "execution_count": null,
   "id": "cA2IsQ_VswK5",
   "metadata": {
    "colab": {
     "base_uri": "https://localhost:8080/"
    },
    "id": "cA2IsQ_VswK5",
    "jupyter": {
     "outputs_hidden": true
    },
    "outputId": "8f9b0240-3af6-4df7-eeeb-0351d24d349f",
    "tags": []
   },
   "outputs": [],
   "source": [
    "rfr = RandomForestRegressor(n_estimators=100, ccp_alpha=.01, random_state=36)\n",
    "cv_scores = cross_val_score(rfr, X_train, y_train, cv=5)\n",
    "print(\"Scores:\", cv_scores)\n",
    "print(\"Maximize the average:\", round(cv_scores.mean(),3))"
   ]
  },
  {
   "cell_type": "code",
   "execution_count": null,
   "id": "gI4DhDuZwtSr",
   "metadata": {
    "colab": {
     "base_uri": "https://localhost:8080/"
    },
    "id": "gI4DhDuZwtSr",
    "outputId": "da3d79b5-8910-4dd6-cb32-02d30c05ca80"
   },
   "outputs": [],
   "source": [
    "dr = DummyRegressor(strategy='median').fit(X_train, y_train) #Baseline\n",
    "#Evaluation\n",
    "print(\"Baseline R^2:\", round(dr.score(X_test, y_test),3))\n",
    "rfr.fit(X_train, y_train)\n",
    "print(\"Best model R^2:\", round(rfr.score(X_test, y_test),3))"
   ]
  },
  {
   "cell_type": "code",
   "execution_count": null,
   "id": "FKhF1VcFK34X",
   "metadata": {
    "colab": {
     "base_uri": "https://localhost:8080/",
     "height": 445
    },
    "id": "FKhF1VcFK34X",
    "outputId": "b2ef7750-abaa-402a-8959-b7bc4251f181"
   },
   "outputs": [],
   "source": [
    "rf_preds = rfr.predict(X_test)\n",
    "\n",
    "ax = sns.regplot(x=y_test, y=rf_preds, scatter_kws={'alpha':.4})\n",
    "ax.axvline(y_train.median(), color='gray', alpha=.5)\n",
    "ax.text(y_train.median()+.1, 3, 'baseline \\n(median)', color='gray')\n",
    "ax.set_xlabel('Experimental $pIC_{50}$')\n",
    "ax.set_ylabel('Predicted $pIC_{50}$')\n",
    "ax.set_title('Residual plot')\n",
    "pIC50_range = (y_test.min()-.2, y_test.max()+.2)\n",
    "ax.set_xlim(pIC50_range)\n",
    "ax.set_ylim(pIC50_range)\n",
    "plt.show()"
   ]
  }
 ],
 "metadata": {
  "colab": {
   "collapsed_sections": [],
   "name": "drug-discovery-colab.ipynb",
   "provenance": []
  },
  "kernelspec": {
   "display_name": "Python 3",
   "language": "python",
   "name": "python3"
  },
  "language_info": {
   "codemirror_mode": {
    "name": "ipython",
    "version": 3
   },
   "file_extension": ".py",
   "mimetype": "text/x-python",
   "name": "python",
   "nbconvert_exporter": "python",
   "pygments_lexer": "ipython3",
   "version": "3.8.8"
  }
 },
 "nbformat": 4,
 "nbformat_minor": 5
}
