{
 "cells": [
  {
   "cell_type": "markdown",
   "id": "wAQccHGpLEJj",
   "metadata": {
    "id": "wAQccHGpLEJj"
   },
   "source": [
    "# Drug Discovery using ChEMBL\n",
    "\n",
    "ChEMBL is a curated chemical database of *bioactive* molecules with *druglike* properties.\n",
    "\n",
    "**bioactive**: has an effect on a living organism, tissue or cell\n",
    "\n",
    "**druglikeness**: a qualitative factor used in drug design; how \"druglike\" a substance is with respect to factors estimated from the molecular structure"
   ]
  },
  {
   "cell_type": "markdown",
   "id": "_LvHrXyXy0aZ",
   "metadata": {
    "id": "_LvHrXyXy0aZ"
   },
   "source": [
    "#### Table of contents\n",
    "\n",
    "1.   [Research](#Research)\n",
    "2.   [Acquire & prepare molecular data](#Acquire)\n",
    ".   [Modeling the chemical fingerprints](#Model)\n",
    "\n"
   ]
  },
  {
   "cell_type": "code",
   "execution_count": 1,
   "id": "e7507962-7054-4a3b-9c35-fa4c9eba65f2",
   "metadata": {
    "tags": []
   },
   "outputs": [
    {
     "name": "stderr",
     "output_type": "stream",
     "text": [
      "RDKit WARNING: [07:48:41] Enabling RDKit 2019.09.3 jupyter extensions\n"
     ]
    }
   ],
   "source": [
    "import pandas as pd\n",
    "import numpy as np\n",
    "from chembl_webresource_client.new_client import new_client\n",
    "from rdkit import Chem\n",
    "from source.prepare import preprocess_bioactivity_data\n",
    "\n",
    "%load_ext autoreload\n",
    "%autoreload 2"
   ]
  },
  {
   "cell_type": "markdown",
   "id": "3a95dec5-f8d7-4b38-a6a9-b8da1b312c1b",
   "metadata": {},
   "source": [
    "<a id='Research'></a>\n",
    "## Preliminary research\n"
   ]
  },
  {
   "cell_type": "markdown",
   "id": "32a036b3-54c4-47a0-8a22-07e50e48d98f",
   "metadata": {},
   "source": [
    "In October, 2021, [*Nature* reported](https://www.nature.com/articles/d41586-021-02755-5#ref-CR2), `More than 130 years after the naming of the Plasmodium parasites behind malaria, the world now has its first approved vaccine against them ... Compared with other childhood vaccinations, RTS,S has only modest efficacy, preventing about 30% of severe malaria cases after a series of four injections in children under the age of five. Nevertheless, one modelling study suggests that it could prevent the deaths of 23,000 children a year ... [malaria] killed 411,000 people in 2018.`\n",
    "\n",
    "According to the [CDC website](https://www.cdc.gov/malaria/about/biology/index.html#tabs-1-6), `Four species of Plasmodium have long been recognized to infect humans in nature. In addition there is one species that naturally infects macaques which has recently been recognized to be a cause of zoonotic malaria in humans ... P. knowlesi is found throughout Southeast Asia as a natural pathogen of long-tailed and pig-tailed macaques. It has a 24-hour replication cycle and so can rapidly progress from an uncomplicated to a severe infection; fatal cases have been reported.`\n",
    "\n",
    "![](https://www.cdc.gov/malaria/images/microscopy/about/falciparum.jpg)\n",
    "\n",
    "(P. falciparum, the deadliest species, targeted by new vaccine)\n",
    "\n",
    "![](https://www.cdc.gov/malaria/images/microscopy/about/knowlesi.jpg)\n",
    "\n",
    "(P. knowlesi, newly found to cause zoonotic malaria in humans infected by primates)\n",
    "\n",
    "Is [Plasmodium knowlesi](https://www.ebi.ac.uk/chembl/target_report_card/CHEMBL613011/) in the ChEMBL database? If so, we can use it to retrieve the microorganism's assays, which are chemical tests made to estimate the **potency** of sample compounds on the organism. We can check using the ChEMBL group's official Python client library... "
   ]
  },
  {
   "cell_type": "code",
   "execution_count": 2,
   "id": "06d92c58-4a63-49f1-9bc7-4f27b9cb7879",
   "metadata": {
    "tags": []
   },
   "outputs": [
    {
     "data": {
      "text/plain": [
       "[{'organism': 'Plasmodium knowlesi',\n",
       "  'pref_name': 'Plasmodium knowlesi',\n",
       "  'target_chembl_id': 'CHEMBL613011'},\n",
       " {'organism': 'Homo sapiens',\n",
       "  'pref_name': 'Duffy antigen/chemokine receptor',\n",
       "  'target_chembl_id': 'CHEMBL2321626'},\n",
       " {'organism': 'Plasmodium falciparum',\n",
       "  'pref_name': 'Plasmodium falciparum',\n",
       "  'target_chembl_id': 'CHEMBL364'},\n",
       " {'organism': 'Plasmodium berghei',\n",
       "  'pref_name': 'Plasmodium berghei',\n",
       "  'target_chembl_id': 'CHEMBL612653'},\n",
       " {'organism': 'Plasmodium yoelii',\n",
       "  'pref_name': 'Plasmodium yoelii',\n",
       "  'target_chembl_id': 'CHEMBL612889'}]"
      ]
     },
     "execution_count": 2,
     "metadata": {},
     "output_type": "execute_result"
    }
   ],
   "source": [
    "drug_target = 'Plasmodium knowlesi'\n",
    "#OR skip this step if you already know the molecule ID\n",
    "target_dicts = []\n",
    "res = new_client.target.search(drug_target)\n",
    "for r in res:\n",
    "    target_dicts.append({'organism': r['organism'],\n",
    "                         'pref_name': r['pref_name'],\n",
    "                         'target_chembl_id': r['target_chembl_id']})\n",
    "#P. knowlesi is the top search result, other species listed below\n",
    "target_dicts[:5]"
   ]
  },
  {
   "cell_type": "markdown",
   "id": "bdwSYSyMjzt2",
   "metadata": {
    "id": "bdwSYSyMjzt2"
   },
   "source": [
    "<a id='Acquire'></a>\n",
    "### Acquire & prepare molecular data"
   ]
  },
  {
   "cell_type": "markdown",
   "id": "d36653b4-8689-4803-9b12-40ab3f943b8d",
   "metadata": {},
   "source": [
    "This cell will create **two csv files** based on the ChEMBL ID:\n",
    "\n",
    "* preprocessed data with SMILES notation and added columns for Lapinski descriptors (druglike properties), $pIC_{50}$ values (potency, the dependent variable), and a binary class variable ('ACTIVE', 'INACTIVE') indicating whether or not each molecule is reactive with the target\n",
    "\n",
    "* the chemical fingerprint, 881-digit binary representation of the molecular structure based on atoms and bonds, for each molecule in the dataset that is used for training the machine learning algorithm to identify promising molecules\n",
    "\n",
    "Dependencies include the ChEMBL Webresource Client, RDKit, and PaDELPy"
   ]
  },
  {
   "cell_type": "code",
   "execution_count": 3,
   "id": "c2519c91-448d-490a-a081-1d3f6542b9d3",
   "metadata": {},
   "outputs": [],
   "source": [
    "#If you know the molecule ID, set it here and uncomment below.\n",
    "#target_id = 'CHEMBL613011'\n",
    "#Or if you want to use the search results, run this cell as is.\n",
    "target_id = target_dicts[0]['target_chembl_id']"
   ]
  },
  {
   "cell_type": "code",
   "execution_count": 4,
   "id": "c9290af4-0560-4608-a2fd-627ee43af79f",
   "metadata": {},
   "outputs": [
    {
     "name": "stdout",
     "output_type": "stream",
     "text": [
      "\n",
      "Query results retrieved for CHEMBL613011...\n",
      "Saving 12 molecules.\n",
      "\n",
      "Computing fingerprints (takes several minutes if molecules > 1000)...\n",
      "Success!\n",
      "\n"
     ]
    }
   ],
   "source": [
    "preprocess_bioactivity_data(target_id, tests=False, fingerprints=True)"
   ]
  },
  {
   "cell_type": "code",
   "execution_count": 5,
   "id": "c6ff0841-17fe-4435-ba2a-e58cbc7e1dd0",
   "metadata": {},
   "outputs": [
    {
     "data": {
      "text/html": [
       "<div>\n",
       "<style scoped>\n",
       "    .dataframe tbody tr th:only-of-type {\n",
       "        vertical-align: middle;\n",
       "    }\n",
       "\n",
       "    .dataframe tbody tr th {\n",
       "        vertical-align: top;\n",
       "    }\n",
       "\n",
       "    .dataframe thead th {\n",
       "        text-align: right;\n",
       "    }\n",
       "</style>\n",
       "<table border=\"1\" class=\"dataframe\">\n",
       "  <thead>\n",
       "    <tr style=\"text-align: right;\">\n",
       "      <th></th>\n",
       "      <th>molecule_chembl_id</th>\n",
       "      <th>canonical_smiles</th>\n",
       "      <th>standard_value</th>\n",
       "      <th>bioactivity_class</th>\n",
       "      <th>MW</th>\n",
       "      <th>LogP</th>\n",
       "      <th>NumHDonors</th>\n",
       "      <th>NumHAcceptors</th>\n",
       "      <th>pIC50</th>\n",
       "    </tr>\n",
       "  </thead>\n",
       "  <tbody>\n",
       "    <tr>\n",
       "      <th>0</th>\n",
       "      <td>CHEMBL1951761</td>\n",
       "      <td>CCCCCCCCCCCCC[C@H](O)C[C@H](O)[C@H](C)N</td>\n",
       "      <td>10500.0</td>\n",
       "      <td>INACTIVE</td>\n",
       "      <td>301.515</td>\n",
       "      <td>4.14660</td>\n",
       "      <td>3.0</td>\n",
       "      <td>3.0</td>\n",
       "      <td>4.97881</td>\n",
       "    </tr>\n",
       "    <tr>\n",
       "      <th>1</th>\n",
       "      <td>CHEMBL1951763</td>\n",
       "      <td>CCCCCCCCCCCCC[C@H](O)C[C@@H](O)[C@H](C)N</td>\n",
       "      <td>20300.0</td>\n",
       "      <td>INACTIVE</td>\n",
       "      <td>301.515</td>\n",
       "      <td>4.14660</td>\n",
       "      <td>3.0</td>\n",
       "      <td>3.0</td>\n",
       "      <td>4.69250</td>\n",
       "    </tr>\n",
       "    <tr>\n",
       "      <th>2</th>\n",
       "      <td>CHEMBL1951762</td>\n",
       "      <td>CCCCCCCCCCCCC[C@@H](O)C[C@H](O)[C@H](C)N</td>\n",
       "      <td>17600.0</td>\n",
       "      <td>INACTIVE</td>\n",
       "      <td>301.515</td>\n",
       "      <td>4.14660</td>\n",
       "      <td>3.0</td>\n",
       "      <td>3.0</td>\n",
       "      <td>4.75449</td>\n",
       "    </tr>\n",
       "    <tr>\n",
       "      <th>3</th>\n",
       "      <td>CHEMBL1951765</td>\n",
       "      <td>CCCCCCCCCCCCC[C@H](O)C[C@H](O)[C@H](C)NC</td>\n",
       "      <td>1700.0</td>\n",
       "      <td>intermediate</td>\n",
       "      <td>315.542</td>\n",
       "      <td>4.40730</td>\n",
       "      <td>3.0</td>\n",
       "      <td>3.0</td>\n",
       "      <td>5.76955</td>\n",
       "    </tr>\n",
       "    <tr>\n",
       "      <th>4</th>\n",
       "      <td>CHEMBL2035992</td>\n",
       "      <td>CCCCCCCCCCCCC[C@H](O)C[C@H](O)[C@H](C)N(C)C</td>\n",
       "      <td>6800.0</td>\n",
       "      <td>intermediate</td>\n",
       "      <td>329.569</td>\n",
       "      <td>4.74950</td>\n",
       "      <td>2.0</td>\n",
       "      <td>3.0</td>\n",
       "      <td>5.16749</td>\n",
       "    </tr>\n",
       "    <tr>\n",
       "      <th>5</th>\n",
       "      <td>CHEMBL2035993</td>\n",
       "      <td>CCCCCCCCCCCCC[C@H](O)C[C@H](O)[C@@H]1CCCN1</td>\n",
       "      <td>6300.0</td>\n",
       "      <td>intermediate</td>\n",
       "      <td>327.553</td>\n",
       "      <td>4.55140</td>\n",
       "      <td>3.0</td>\n",
       "      <td>3.0</td>\n",
       "      <td>5.20066</td>\n",
       "    </tr>\n",
       "    <tr>\n",
       "      <th>6</th>\n",
       "      <td>CHEMBL76</td>\n",
       "      <td>CCN(CC)CCCC(C)Nc1ccnc2cc(Cl)ccc12</td>\n",
       "      <td>10.0</td>\n",
       "      <td>ACTIVE</td>\n",
       "      <td>319.880</td>\n",
       "      <td>4.81060</td>\n",
       "      <td>1.0</td>\n",
       "      <td>3.0</td>\n",
       "      <td>8.00000</td>\n",
       "    </tr>\n",
       "    <tr>\n",
       "      <th>7</th>\n",
       "      <td>CHEMBL172</td>\n",
       "      <td>O[C@@H](c1cc(C(F)(F)F)nc2c(C(F)(F)F)cccc12)[C@...</td>\n",
       "      <td>40.0</td>\n",
       "      <td>ACTIVE</td>\n",
       "      <td>378.316</td>\n",
       "      <td>4.44790</td>\n",
       "      <td>2.0</td>\n",
       "      <td>3.0</td>\n",
       "      <td>7.39794</td>\n",
       "    </tr>\n",
       "    <tr>\n",
       "      <th>8</th>\n",
       "      <td>CHEMBL4166227</td>\n",
       "      <td>Clc1cccc2c1-c1ccccc1[I+]2.O=S(=O)([O-])C(F)(F)F</td>\n",
       "      <td>80.0</td>\n",
       "      <td>ACTIVE</td>\n",
       "      <td>462.614</td>\n",
       "      <td>0.50020</td>\n",
       "      <td>0.0</td>\n",
       "      <td>3.0</td>\n",
       "      <td>7.09691</td>\n",
       "    </tr>\n",
       "    <tr>\n",
       "      <th>9</th>\n",
       "      <td>CHEMBL4174142</td>\n",
       "      <td>Fc1cccc2c1-c1ccccc1[I+]2.O=S(=O)([O-])C(F)(F)F</td>\n",
       "      <td>80.0</td>\n",
       "      <td>ACTIVE</td>\n",
       "      <td>446.159</td>\n",
       "      <td>-0.01410</td>\n",
       "      <td>0.0</td>\n",
       "      <td>3.0</td>\n",
       "      <td>7.09691</td>\n",
       "    </tr>\n",
       "    <tr>\n",
       "      <th>10</th>\n",
       "      <td>CHEMBL4165957</td>\n",
       "      <td>N#Cc1ccc2c(c1)-c1ccccc1[I+]2.O=S(=O)([O-])C(F)...</td>\n",
       "      <td>110.0</td>\n",
       "      <td>ACTIVE</td>\n",
       "      <td>453.179</td>\n",
       "      <td>-0.28152</td>\n",
       "      <td>0.0</td>\n",
       "      <td>4.0</td>\n",
       "      <td>6.95861</td>\n",
       "    </tr>\n",
       "    <tr>\n",
       "      <th>11</th>\n",
       "      <td>CHEMBL4167328</td>\n",
       "      <td>O=S(=O)([O-])C(F)(F)F.c1ccc2c(c1)[I+]c1ccccc1-2</td>\n",
       "      <td>740.0</td>\n",
       "      <td>ACTIVE</td>\n",
       "      <td>428.169</td>\n",
       "      <td>-0.15320</td>\n",
       "      <td>0.0</td>\n",
       "      <td>3.0</td>\n",
       "      <td>6.13077</td>\n",
       "    </tr>\n",
       "  </tbody>\n",
       "</table>\n",
       "</div>"
      ],
      "text/plain": [
       "   molecule_chembl_id                                   canonical_smiles  \\\n",
       "0       CHEMBL1951761            CCCCCCCCCCCCC[C@H](O)C[C@H](O)[C@H](C)N   \n",
       "1       CHEMBL1951763           CCCCCCCCCCCCC[C@H](O)C[C@@H](O)[C@H](C)N   \n",
       "2       CHEMBL1951762           CCCCCCCCCCCCC[C@@H](O)C[C@H](O)[C@H](C)N   \n",
       "3       CHEMBL1951765           CCCCCCCCCCCCC[C@H](O)C[C@H](O)[C@H](C)NC   \n",
       "4       CHEMBL2035992        CCCCCCCCCCCCC[C@H](O)C[C@H](O)[C@H](C)N(C)C   \n",
       "5       CHEMBL2035993         CCCCCCCCCCCCC[C@H](O)C[C@H](O)[C@@H]1CCCN1   \n",
       "6            CHEMBL76                  CCN(CC)CCCC(C)Nc1ccnc2cc(Cl)ccc12   \n",
       "7           CHEMBL172  O[C@@H](c1cc(C(F)(F)F)nc2c(C(F)(F)F)cccc12)[C@...   \n",
       "8       CHEMBL4166227    Clc1cccc2c1-c1ccccc1[I+]2.O=S(=O)([O-])C(F)(F)F   \n",
       "9       CHEMBL4174142     Fc1cccc2c1-c1ccccc1[I+]2.O=S(=O)([O-])C(F)(F)F   \n",
       "10      CHEMBL4165957  N#Cc1ccc2c(c1)-c1ccccc1[I+]2.O=S(=O)([O-])C(F)...   \n",
       "11      CHEMBL4167328    O=S(=O)([O-])C(F)(F)F.c1ccc2c(c1)[I+]c1ccccc1-2   \n",
       "\n",
       "    standard_value bioactivity_class       MW     LogP  NumHDonors  \\\n",
       "0          10500.0          INACTIVE  301.515  4.14660         3.0   \n",
       "1          20300.0          INACTIVE  301.515  4.14660         3.0   \n",
       "2          17600.0          INACTIVE  301.515  4.14660         3.0   \n",
       "3           1700.0      intermediate  315.542  4.40730         3.0   \n",
       "4           6800.0      intermediate  329.569  4.74950         2.0   \n",
       "5           6300.0      intermediate  327.553  4.55140         3.0   \n",
       "6             10.0            ACTIVE  319.880  4.81060         1.0   \n",
       "7             40.0            ACTIVE  378.316  4.44790         2.0   \n",
       "8             80.0            ACTIVE  462.614  0.50020         0.0   \n",
       "9             80.0            ACTIVE  446.159 -0.01410         0.0   \n",
       "10           110.0            ACTIVE  453.179 -0.28152         0.0   \n",
       "11           740.0            ACTIVE  428.169 -0.15320         0.0   \n",
       "\n",
       "    NumHAcceptors    pIC50  \n",
       "0             3.0  4.97881  \n",
       "1             3.0  4.69250  \n",
       "2             3.0  4.75449  \n",
       "3             3.0  5.76955  \n",
       "4             3.0  5.16749  \n",
       "5             3.0  5.20066  \n",
       "6             3.0  8.00000  \n",
       "7             3.0  7.39794  \n",
       "8             3.0  7.09691  \n",
       "9             3.0  7.09691  \n",
       "10            4.0  6.95861  \n",
       "11            3.0  6.13077  "
      ]
     },
     "execution_count": 5,
     "metadata": {},
     "output_type": "execute_result"
    }
   ],
   "source": [
    "bioactivity_df = pd.read_csv(f'{target_id}_bioactivity_preprocessed.csv')\n",
    "bioactivity_df"
   ]
  },
  {
   "cell_type": "code",
   "execution_count": 7,
   "id": "16fefe28",
   "metadata": {},
   "outputs": [
    {
     "name": "stdout",
     "output_type": "stream",
     "text": [
      "| Feature            | Datatype             | Definition   |\n",
      "|:-------------------|:---------------------|:-------------|\n",
      "| molecule_chembl_id | 12 non-null: object  |              |\n",
      "| canonical_smiles   | 12 non-null: object  |              |\n",
      "| standard_value     | 12 non-null: float64 |              |\n",
      "| bioactivity_class  | 12 non-null: object  |              |\n",
      "| MW                 | 12 non-null: float64 |              |\n",
      "| LogP               | 12 non-null: float64 |              |\n",
      "| NumHDonors         | 12 non-null: float64 |              |\n",
      "| NumHAcceptors      | 12 non-null: float64 |              |\n",
      "| pIC50              | 12 non-null: float64 |              |\n"
     ]
    }
   ],
   "source": [
    "print(pd.DataFrame([{'Feature': col,\n",
    "         'Datatype': f'{bioactivity_df[col].count()} non-null: {bioactivity_df[col].dtype}',\n",
    "        'Definition' : ''} for col in bioactivity_df.columns]).set_index('Feature').to_markdown())"
   ]
  },
  {
   "cell_type": "code",
   "execution_count": 6,
   "id": "93e02cb5-efa0-4c95-a8d1-b64d5ff57070",
   "metadata": {},
   "outputs": [
    {
     "ename": "FileNotFoundError",
     "evalue": "[Errno 2] No such file or directory: 'CHEMBL613011_pubchem_fp.csv'",
     "output_type": "error",
     "traceback": [
      "\u001b[0;31m---------------------------------------------------------------------------\u001b[0m",
      "\u001b[0;31mFileNotFoundError\u001b[0m                         Traceback (most recent call last)",
      "\u001b[0;32m<ipython-input-6-2ae3f29f6054>\u001b[0m in \u001b[0;36m<module>\u001b[0;34m\u001b[0m\n\u001b[0;32m----> 1\u001b[0;31m \u001b[0mfingerprint_df\u001b[0m \u001b[0;34m=\u001b[0m \u001b[0mpd\u001b[0m\u001b[0;34m.\u001b[0m\u001b[0mread_csv\u001b[0m\u001b[0;34m(\u001b[0m\u001b[0;34mf'{target_id}_pubchem_fp.csv'\u001b[0m\u001b[0;34m)\u001b[0m\u001b[0;34m\u001b[0m\u001b[0;34m\u001b[0m\u001b[0m\n\u001b[0m\u001b[1;32m      2\u001b[0m \u001b[0mfingerprint_df\u001b[0m\u001b[0;34m\u001b[0m\u001b[0;34m\u001b[0m\u001b[0m\n",
      "\u001b[0;32m/opt/homebrew/anaconda3/lib/python3.8/site-packages/pandas/io/parsers.py\u001b[0m in \u001b[0;36mread_csv\u001b[0;34m(filepath_or_buffer, sep, delimiter, header, names, index_col, usecols, squeeze, prefix, mangle_dupe_cols, dtype, engine, converters, true_values, false_values, skipinitialspace, skiprows, skipfooter, nrows, na_values, keep_default_na, na_filter, verbose, skip_blank_lines, parse_dates, infer_datetime_format, keep_date_col, date_parser, dayfirst, cache_dates, iterator, chunksize, compression, thousands, decimal, lineterminator, quotechar, quoting, doublequote, escapechar, comment, encoding, dialect, error_bad_lines, warn_bad_lines, delim_whitespace, low_memory, memory_map, float_precision, storage_options)\u001b[0m\n\u001b[1;32m    608\u001b[0m     \u001b[0mkwds\u001b[0m\u001b[0;34m.\u001b[0m\u001b[0mupdate\u001b[0m\u001b[0;34m(\u001b[0m\u001b[0mkwds_defaults\u001b[0m\u001b[0;34m)\u001b[0m\u001b[0;34m\u001b[0m\u001b[0;34m\u001b[0m\u001b[0m\n\u001b[1;32m    609\u001b[0m \u001b[0;34m\u001b[0m\u001b[0m\n\u001b[0;32m--> 610\u001b[0;31m     \u001b[0;32mreturn\u001b[0m \u001b[0m_read\u001b[0m\u001b[0;34m(\u001b[0m\u001b[0mfilepath_or_buffer\u001b[0m\u001b[0;34m,\u001b[0m \u001b[0mkwds\u001b[0m\u001b[0;34m)\u001b[0m\u001b[0;34m\u001b[0m\u001b[0;34m\u001b[0m\u001b[0m\n\u001b[0m\u001b[1;32m    611\u001b[0m \u001b[0;34m\u001b[0m\u001b[0m\n\u001b[1;32m    612\u001b[0m \u001b[0;34m\u001b[0m\u001b[0m\n",
      "\u001b[0;32m/opt/homebrew/anaconda3/lib/python3.8/site-packages/pandas/io/parsers.py\u001b[0m in \u001b[0;36m_read\u001b[0;34m(filepath_or_buffer, kwds)\u001b[0m\n\u001b[1;32m    460\u001b[0m \u001b[0;34m\u001b[0m\u001b[0m\n\u001b[1;32m    461\u001b[0m     \u001b[0;31m# Create the parser.\u001b[0m\u001b[0;34m\u001b[0m\u001b[0;34m\u001b[0m\u001b[0;34m\u001b[0m\u001b[0m\n\u001b[0;32m--> 462\u001b[0;31m     \u001b[0mparser\u001b[0m \u001b[0;34m=\u001b[0m \u001b[0mTextFileReader\u001b[0m\u001b[0;34m(\u001b[0m\u001b[0mfilepath_or_buffer\u001b[0m\u001b[0;34m,\u001b[0m \u001b[0;34m**\u001b[0m\u001b[0mkwds\u001b[0m\u001b[0;34m)\u001b[0m\u001b[0;34m\u001b[0m\u001b[0;34m\u001b[0m\u001b[0m\n\u001b[0m\u001b[1;32m    463\u001b[0m \u001b[0;34m\u001b[0m\u001b[0m\n\u001b[1;32m    464\u001b[0m     \u001b[0;32mif\u001b[0m \u001b[0mchunksize\u001b[0m \u001b[0;32mor\u001b[0m \u001b[0miterator\u001b[0m\u001b[0;34m:\u001b[0m\u001b[0;34m\u001b[0m\u001b[0;34m\u001b[0m\u001b[0m\n",
      "\u001b[0;32m/opt/homebrew/anaconda3/lib/python3.8/site-packages/pandas/io/parsers.py\u001b[0m in \u001b[0;36m__init__\u001b[0;34m(self, f, engine, **kwds)\u001b[0m\n\u001b[1;32m    817\u001b[0m             \u001b[0mself\u001b[0m\u001b[0;34m.\u001b[0m\u001b[0moptions\u001b[0m\u001b[0;34m[\u001b[0m\u001b[0;34m\"has_index_names\"\u001b[0m\u001b[0;34m]\u001b[0m \u001b[0;34m=\u001b[0m \u001b[0mkwds\u001b[0m\u001b[0;34m[\u001b[0m\u001b[0;34m\"has_index_names\"\u001b[0m\u001b[0;34m]\u001b[0m\u001b[0;34m\u001b[0m\u001b[0;34m\u001b[0m\u001b[0m\n\u001b[1;32m    818\u001b[0m \u001b[0;34m\u001b[0m\u001b[0m\n\u001b[0;32m--> 819\u001b[0;31m         \u001b[0mself\u001b[0m\u001b[0;34m.\u001b[0m\u001b[0m_engine\u001b[0m \u001b[0;34m=\u001b[0m \u001b[0mself\u001b[0m\u001b[0;34m.\u001b[0m\u001b[0m_make_engine\u001b[0m\u001b[0;34m(\u001b[0m\u001b[0mself\u001b[0m\u001b[0;34m.\u001b[0m\u001b[0mengine\u001b[0m\u001b[0;34m)\u001b[0m\u001b[0;34m\u001b[0m\u001b[0;34m\u001b[0m\u001b[0m\n\u001b[0m\u001b[1;32m    820\u001b[0m \u001b[0;34m\u001b[0m\u001b[0m\n\u001b[1;32m    821\u001b[0m     \u001b[0;32mdef\u001b[0m \u001b[0mclose\u001b[0m\u001b[0;34m(\u001b[0m\u001b[0mself\u001b[0m\u001b[0;34m)\u001b[0m\u001b[0;34m:\u001b[0m\u001b[0;34m\u001b[0m\u001b[0;34m\u001b[0m\u001b[0m\n",
      "\u001b[0;32m/opt/homebrew/anaconda3/lib/python3.8/site-packages/pandas/io/parsers.py\u001b[0m in \u001b[0;36m_make_engine\u001b[0;34m(self, engine)\u001b[0m\n\u001b[1;32m   1048\u001b[0m             )\n\u001b[1;32m   1049\u001b[0m         \u001b[0;31m# error: Too many arguments for \"ParserBase\"\u001b[0m\u001b[0;34m\u001b[0m\u001b[0;34m\u001b[0m\u001b[0;34m\u001b[0m\u001b[0m\n\u001b[0;32m-> 1050\u001b[0;31m         \u001b[0;32mreturn\u001b[0m \u001b[0mmapping\u001b[0m\u001b[0;34m[\u001b[0m\u001b[0mengine\u001b[0m\u001b[0;34m]\u001b[0m\u001b[0;34m(\u001b[0m\u001b[0mself\u001b[0m\u001b[0;34m.\u001b[0m\u001b[0mf\u001b[0m\u001b[0;34m,\u001b[0m \u001b[0;34m**\u001b[0m\u001b[0mself\u001b[0m\u001b[0;34m.\u001b[0m\u001b[0moptions\u001b[0m\u001b[0;34m)\u001b[0m  \u001b[0;31m# type: ignore[call-arg]\u001b[0m\u001b[0;34m\u001b[0m\u001b[0;34m\u001b[0m\u001b[0m\n\u001b[0m\u001b[1;32m   1051\u001b[0m \u001b[0;34m\u001b[0m\u001b[0m\n\u001b[1;32m   1052\u001b[0m     \u001b[0;32mdef\u001b[0m \u001b[0m_failover_to_python\u001b[0m\u001b[0;34m(\u001b[0m\u001b[0mself\u001b[0m\u001b[0;34m)\u001b[0m\u001b[0;34m:\u001b[0m\u001b[0;34m\u001b[0m\u001b[0;34m\u001b[0m\u001b[0m\n",
      "\u001b[0;32m/opt/homebrew/anaconda3/lib/python3.8/site-packages/pandas/io/parsers.py\u001b[0m in \u001b[0;36m__init__\u001b[0;34m(self, src, **kwds)\u001b[0m\n\u001b[1;32m   1865\u001b[0m \u001b[0;34m\u001b[0m\u001b[0m\n\u001b[1;32m   1866\u001b[0m         \u001b[0;31m# open handles\u001b[0m\u001b[0;34m\u001b[0m\u001b[0;34m\u001b[0m\u001b[0;34m\u001b[0m\u001b[0m\n\u001b[0;32m-> 1867\u001b[0;31m         \u001b[0mself\u001b[0m\u001b[0;34m.\u001b[0m\u001b[0m_open_handles\u001b[0m\u001b[0;34m(\u001b[0m\u001b[0msrc\u001b[0m\u001b[0;34m,\u001b[0m \u001b[0mkwds\u001b[0m\u001b[0;34m)\u001b[0m\u001b[0;34m\u001b[0m\u001b[0;34m\u001b[0m\u001b[0m\n\u001b[0m\u001b[1;32m   1868\u001b[0m         \u001b[0;32massert\u001b[0m \u001b[0mself\u001b[0m\u001b[0;34m.\u001b[0m\u001b[0mhandles\u001b[0m \u001b[0;32mis\u001b[0m \u001b[0;32mnot\u001b[0m \u001b[0;32mNone\u001b[0m\u001b[0;34m\u001b[0m\u001b[0;34m\u001b[0m\u001b[0m\n\u001b[1;32m   1869\u001b[0m         \u001b[0;32mfor\u001b[0m \u001b[0mkey\u001b[0m \u001b[0;32min\u001b[0m \u001b[0;34m(\u001b[0m\u001b[0;34m\"storage_options\"\u001b[0m\u001b[0;34m,\u001b[0m \u001b[0;34m\"encoding\"\u001b[0m\u001b[0;34m,\u001b[0m \u001b[0;34m\"memory_map\"\u001b[0m\u001b[0;34m,\u001b[0m \u001b[0;34m\"compression\"\u001b[0m\u001b[0;34m)\u001b[0m\u001b[0;34m:\u001b[0m\u001b[0;34m\u001b[0m\u001b[0;34m\u001b[0m\u001b[0m\n",
      "\u001b[0;32m/opt/homebrew/anaconda3/lib/python3.8/site-packages/pandas/io/parsers.py\u001b[0m in \u001b[0;36m_open_handles\u001b[0;34m(self, src, kwds)\u001b[0m\n\u001b[1;32m   1360\u001b[0m         \u001b[0mLet\u001b[0m \u001b[0mthe\u001b[0m \u001b[0mreaders\u001b[0m \u001b[0mopen\u001b[0m \u001b[0mIOHanldes\u001b[0m \u001b[0mafter\u001b[0m \u001b[0mthey\u001b[0m \u001b[0mare\u001b[0m \u001b[0mdone\u001b[0m \u001b[0;32mwith\u001b[0m \u001b[0mtheir\u001b[0m \u001b[0mpotential\u001b[0m \u001b[0mraises\u001b[0m\u001b[0;34m.\u001b[0m\u001b[0;34m\u001b[0m\u001b[0;34m\u001b[0m\u001b[0m\n\u001b[1;32m   1361\u001b[0m         \"\"\"\n\u001b[0;32m-> 1362\u001b[0;31m         self.handles = get_handle(\n\u001b[0m\u001b[1;32m   1363\u001b[0m             \u001b[0msrc\u001b[0m\u001b[0;34m,\u001b[0m\u001b[0;34m\u001b[0m\u001b[0;34m\u001b[0m\u001b[0m\n\u001b[1;32m   1364\u001b[0m             \u001b[0;34m\"r\"\u001b[0m\u001b[0;34m,\u001b[0m\u001b[0;34m\u001b[0m\u001b[0;34m\u001b[0m\u001b[0m\n",
      "\u001b[0;32m/opt/homebrew/anaconda3/lib/python3.8/site-packages/pandas/io/common.py\u001b[0m in \u001b[0;36mget_handle\u001b[0;34m(path_or_buf, mode, encoding, compression, memory_map, is_text, errors, storage_options)\u001b[0m\n\u001b[1;32m    640\u001b[0m                 \u001b[0merrors\u001b[0m \u001b[0;34m=\u001b[0m \u001b[0;34m\"replace\"\u001b[0m\u001b[0;34m\u001b[0m\u001b[0;34m\u001b[0m\u001b[0m\n\u001b[1;32m    641\u001b[0m             \u001b[0;31m# Encoding\u001b[0m\u001b[0;34m\u001b[0m\u001b[0;34m\u001b[0m\u001b[0;34m\u001b[0m\u001b[0m\n\u001b[0;32m--> 642\u001b[0;31m             handle = open(\n\u001b[0m\u001b[1;32m    643\u001b[0m                 \u001b[0mhandle\u001b[0m\u001b[0;34m,\u001b[0m\u001b[0;34m\u001b[0m\u001b[0;34m\u001b[0m\u001b[0m\n\u001b[1;32m    644\u001b[0m                 \u001b[0mioargs\u001b[0m\u001b[0;34m.\u001b[0m\u001b[0mmode\u001b[0m\u001b[0;34m,\u001b[0m\u001b[0;34m\u001b[0m\u001b[0;34m\u001b[0m\u001b[0m\n",
      "\u001b[0;31mFileNotFoundError\u001b[0m: [Errno 2] No such file or directory: 'CHEMBL613011_pubchem_fp.csv'"
     ]
    }
   ],
   "source": [
    "fingerprint_df = pd.read_csv(f'{target_id}_pubchem_fp.csv')\n",
    "fingerprint_df"
   ]
  },
  {
   "cell_type": "markdown",
   "id": "60c02cbd-4d55-42d0-94b3-66639c8b4307",
   "metadata": {},
   "source": [
    "### An example molecule from the dataset"
   ]
  },
  {
   "cell_type": "code",
   "execution_count": null,
   "id": "8cc2fdab-fca8-4c29-bbb3-ae3bfd797c24",
   "metadata": {
    "tags": []
   },
   "outputs": [],
   "source": [
    "mol = bioactivity_df.molecule_chembl_id[3]\n",
    "SMILES = bioactivity_df.canonical_smiles[bioactivity_df.molecule_chembl_id==mol].values[0]\n",
    "fingerprint = np.array(fingerprint_df[fingerprint_df.Name==mol])[0][1:]\n",
    "print(f'Three representations of molecule {mol}:\\n')\n",
    "print('1. SMILES notation\\n\\n', SMILES)\n",
    "print('\\n2. Chemical fingerprint\\n\\n', fingerprint)\n",
    "print('\\n3. Drawing\\n')\n",
    "Chem.MolFromSmiles(SMILES) "
   ]
  },
  {
   "cell_type": "markdown",
   "id": "f0010a0e-01f7-40cc-8d31-a6384f1f87ad",
   "metadata": {},
   "source": [
    "<a id='Explore'></a>\n",
    "## Explore molecular descriptors"
   ]
  },
  {
   "cell_type": "code",
   "execution_count": null,
   "id": "2018034b-c752-4271-b821-37be75099879",
   "metadata": {},
   "outputs": [],
   "source": [
    "import matplotlib.pyplot as plt\n",
    "import seaborn as sns\n",
    "plt.style.use('fivethirtyeight')"
   ]
  },
  {
   "cell_type": "code",
   "execution_count": null,
   "id": "94e6c6c4-93a5-4fc7-8795-6c4281928b6f",
   "metadata": {
    "tags": []
   },
   "outputs": [],
   "source": [
    "plt.figure(figsize=(8,4))\n",
    "sns.scatterplot(x='MW', y='LogP', data=bioactivity_df,\n",
    "                hue='bioactivity_class', size='pIC50',\n",
    "                palette=\"Set2\")\n",
    "plt.legend(bbox_to_anchor=(1.5,1))\n",
    "plt.title('chemical spaces')\n",
    "plt.show()"
   ]
  },
  {
   "cell_type": "code",
   "execution_count": null,
   "id": "27c3aa96-e044-4aff-8ba8-5d7ba453df4d",
   "metadata": {},
   "outputs": [],
   "source": [
    "descriptors = ['pIC50', 'MW', 'LogP', 'NumHDonors', 'NumHAcceptors']\n",
    "for desc in descriptors:\n",
    "    plt.figsize = (10,1)\n",
    "    ax = sns.boxplot(x=desc, y=\"bioactivity_class\", data=bioactivity_df, palette=\"Set2\")\n",
    "    plt.ylabel('')\n",
    "    plt.show()"
   ]
  },
  {
   "cell_type": "markdown",
   "id": "WH8zEVPYIZQq",
   "metadata": {
    "id": "WH8zEVPYIZQq"
   },
   "source": [
    "<a id='Model'></a>\n",
    "## Modeling the chemical fingerprints"
   ]
  },
  {
   "cell_type": "markdown",
   "id": "6486a79e-3cf0-4693-9618-9a485865070f",
   "metadata": {},
   "source": [
    "In this part, we use machine learning to determine the charachteristics of molecules with a high chance of being viable drug candidates.\n",
    "\n",
    "A note on modeling: $R^2$ is the percent of the variance in [potency](https://en.wikipedia.org/wiki/Potency_(pharmacology)) (as measured by $pIC_{50}$) is explained by the chemical fingerprint of the molecule."
   ]
  },
  {
   "cell_type": "code",
   "execution_count": null,
   "id": "82fe2c3c-0d49-4631-8856-3ed4d57dc615",
   "metadata": {},
   "outputs": [],
   "source": [
    "from sklearn.model_selection import train_test_split\n",
    "from sklearn.ensemble import RandomForestRegressor\n",
    "from sklearn.feature_selection import VarianceThreshold\n",
    "from sklearn.dummy import DummyRegressor\n",
    "from sklearn.model_selection import cross_val_score"
   ]
  },
  {
   "cell_type": "code",
   "execution_count": null,
   "id": "3f9b824a-3bbe-49dc-9ce8-2eea7316719d",
   "metadata": {},
   "outputs": [],
   "source": [
    "#important step to make sure dependent variable matches with molecule\n",
    "modeling_df = fingerprint_df.merge(bioactivity_df, right_on='molecule_chembl_id', left_on='Name')\n",
    "modeling_df"
   ]
  },
  {
   "cell_type": "code",
   "execution_count": null,
   "id": "gSruGbrYKpzx",
   "metadata": {
    "id": "gSruGbrYKpzx"
   },
   "outputs": [],
   "source": [
    "X = modeling_df.iloc[:,1:-9] #fingerprint only\n",
    "y = modeling_df['pIC50'] #response variable\n",
    "y.describe()"
   ]
  },
  {
   "cell_type": "code",
   "execution_count": null,
   "id": "Q8KecaTG0wyR",
   "metadata": {
    "id": "Q8KecaTG0wyR"
   },
   "outputs": [],
   "source": [
    "selector = VarianceThreshold(.1)\n",
    "X = selector.fit_transform(X)"
   ]
  },
  {
   "cell_type": "code",
   "execution_count": null,
   "id": "zjOZlyVRKr6g",
   "metadata": {
    "colab": {
     "base_uri": "https://localhost:8080/"
    },
    "id": "zjOZlyVRKr6g",
    "outputId": "eea22d64-09c4-4a59-9d00-eeb7e19d46ec"
   },
   "outputs": [],
   "source": [
    "X_train, X_test, y_train, y_test = train_test_split(X, y, test_size=.2, random_state=36)\n",
    "X_train.shape, y_train.shape, X_test.shape, y_test.shape"
   ]
  },
  {
   "cell_type": "markdown",
   "id": "t0dnPgPRsg1C",
   "metadata": {
    "id": "t0dnPgPRsg1C"
   },
   "source": [
    "We've already dropped features with low variance (under 0.1) thereby reducing the fingerprint from 881 to 100-200 features. Now try to maximize the cross-validation score.\n"
   ]
  },
  {
   "cell_type": "code",
   "execution_count": null,
   "id": "cA2IsQ_VswK5",
   "metadata": {
    "colab": {
     "base_uri": "https://localhost:8080/"
    },
    "id": "cA2IsQ_VswK5",
    "jupyter": {
     "outputs_hidden": true
    },
    "outputId": "8f9b0240-3af6-4df7-eeeb-0351d24d349f",
    "tags": []
   },
   "outputs": [],
   "source": [
    "rfr = RandomForestRegressor(n_estimators=100, ccp_alpha=.01, random_state=36)\n",
    "cv_scores = cross_val_score(rfr, X_train, y_train, cv=5)\n",
    "print(\"Scores:\", cv_scores)\n",
    "print(\"Maximize the average:\", round(cv_scores.mean(),3))"
   ]
  },
  {
   "cell_type": "code",
   "execution_count": null,
   "id": "gI4DhDuZwtSr",
   "metadata": {
    "colab": {
     "base_uri": "https://localhost:8080/"
    },
    "id": "gI4DhDuZwtSr",
    "outputId": "da3d79b5-8910-4dd6-cb32-02d30c05ca80"
   },
   "outputs": [],
   "source": [
    "dr = DummyRegressor(strategy='median').fit(X_train, y_train) #Baseline\n",
    "#Evaluation\n",
    "print(\"Baseline R^2:\", round(dr.score(X_test, y_test),3))\n",
    "rfr.fit(X_train, y_train)\n",
    "print(\"Best model R^2:\", round(rfr.score(X_test, y_test),3))"
   ]
  },
  {
   "cell_type": "code",
   "execution_count": null,
   "id": "FKhF1VcFK34X",
   "metadata": {
    "colab": {
     "base_uri": "https://localhost:8080/",
     "height": 445
    },
    "id": "FKhF1VcFK34X",
    "outputId": "b2ef7750-abaa-402a-8959-b7bc4251f181"
   },
   "outputs": [],
   "source": [
    "rf_preds = rfr.predict(X_test)\n",
    "\n",
    "ax = sns.regplot(x=y_test, y=rf_preds, scatter_kws={'alpha':.4})\n",
    "ax.axvline(y_train.median(), color='gray', alpha=.5)\n",
    "ax.text(y_train.median()+.1, 3, 'baseline \\n(median)', color='gray')\n",
    "ax.set_xlabel('Experimental $pIC_{50}$')\n",
    "ax.set_ylabel('Predicted $pIC_{50}$')\n",
    "ax.set_title('Residual plot')\n",
    "pIC50_range = (y_test.min()-.2, y_test.max()+.2)\n",
    "ax.set_xlim(pIC50_range)\n",
    "ax.set_ylim(pIC50_range)\n",
    "plt.show()"
   ]
  }
 ],
 "metadata": {
  "colab": {
   "collapsed_sections": [],
   "name": "drug-discovery-colab.ipynb",
   "provenance": []
  },
  "kernelspec": {
   "display_name": "Python 3",
   "language": "python",
   "name": "python3"
  },
  "language_info": {
   "codemirror_mode": {
    "name": "ipython",
    "version": 3
   },
   "file_extension": ".py",
   "mimetype": "text/x-python",
   "name": "python",
   "nbconvert_exporter": "python",
   "pygments_lexer": "ipython3",
   "version": "3.8.8"
  }
 },
 "nbformat": 4,
 "nbformat_minor": 5
}
